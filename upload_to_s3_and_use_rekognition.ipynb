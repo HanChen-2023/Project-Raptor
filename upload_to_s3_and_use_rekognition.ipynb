{
 "cells": [
  {
   "cell_type": "markdown",
   "id": "8177cc24",
   "metadata": {
    "toc": true
   },
   "source": [
    "<h1>Table of Contents<span class=\"tocSkip\"></span></h1>\n",
    "<div class=\"toc\"><ul class=\"toc-item\"><li><span><a href=\"#Create-Buckey-and-Upload-to-AWS-S3\" data-toc-modified-id=\"Create-Buckey-and-Upload-to-AWS-S3-1\"><span class=\"toc-item-num\">1&nbsp;&nbsp;</span>Create Buckey and Upload to AWS S3</a></span><ul class=\"toc-item\"><li><span><a href=\"#Creat-Bucket\" data-toc-modified-id=\"Creat-Bucket-1.1\"><span class=\"toc-item-num\">1.1&nbsp;&nbsp;</span>Creat Bucket</a></span></li><li><span><a href=\"#Upload-File\" data-toc-modified-id=\"Upload-File-1.2\"><span class=\"toc-item-num\">1.2&nbsp;&nbsp;</span>Upload File</a></span></li></ul></li><li><span><a href=\"#Run-the-file-through-AWS-Rekognition\" data-toc-modified-id=\"Run-the-file-through-AWS-Rekognition-2\"><span class=\"toc-item-num\">2&nbsp;&nbsp;</span>Run the file through AWS Rekognition</a></span><ul class=\"toc-item\"><li><span><a href=\"#Start-label-detection-and-get-result\" data-toc-modified-id=\"Start-label-detection-and-get-result-2.1\"><span class=\"toc-item-num\">2.1&nbsp;&nbsp;</span>Start label detection and get result</a></span></li></ul></li></ul></div>"
   ]
  },
  {
   "cell_type": "code",
   "execution_count": 1,
   "id": "cb5ea9ba",
   "metadata": {},
   "outputs": [],
   "source": [
    "import warnings\n",
    "warnings.filterwarnings(\"ignore\")"
   ]
  },
  {
   "cell_type": "code",
   "execution_count": 2,
   "id": "f8c1647b",
   "metadata": {},
   "outputs": [],
   "source": [
    "import boto3 # AWS client\n",
    "import os # File management\n",
    "\n",
    "# data management\n",
    "import numpy as np\n",
    "import pandas as pd\n",
    "\n",
    "# visualization\n",
    "import seaborn as sns\n",
    "import matplotlib.pyplot as plt\n",
    "\n",
    "# small tools\n",
    "import time\n",
    "from sklearn.preprocessing import StandardScaler\n",
    "import random\n",
    "import math\n",
    "from statistics import mean"
   ]
  },
  {
   "cell_type": "markdown",
   "id": "a3d1b382",
   "metadata": {},
   "source": [
    "**Pre-requiests**\n",
    "- aws cli installed\n",
    "by \"pip install awscli\"\n",
    "- IAM user configured"
   ]
  },
  {
   "cell_type": "markdown",
   "id": "c288a3eb",
   "metadata": {},
   "source": [
    "Access key ID  \n",
    "Secret Access Key  \n",
    "Default Region Name  \n",
    "Default output form: json"
   ]
  },
  {
   "cell_type": "markdown",
   "id": "e4876b4c",
   "metadata": {},
   "source": [
    "# Create Buckey and Upload to AWS S3"
   ]
  },
  {
   "cell_type": "code",
   "execution_count": 3,
   "id": "7c66ebc6",
   "metadata": {},
   "outputs": [],
   "source": [
    "s3_client = boto3.client('s3',region_name='eu-west-1')"
   ]
  },
  {
   "cell_type": "markdown",
   "id": "b6e8dabc",
   "metadata": {},
   "source": [
    "## Creat Bucket"
   ]
  },
  {
   "cell_type": "code",
   "execution_count": 4,
   "id": "0ff552c7",
   "metadata": {},
   "outputs": [],
   "source": [
    "response = s3_client.list_buckets()"
   ]
  },
  {
   "cell_type": "code",
   "execution_count": 5,
   "id": "0311d9f2",
   "metadata": {},
   "outputs": [],
   "source": [
    "bucket_name = '12-sample-videos'"
   ]
  },
  {
   "cell_type": "code",
   "execution_count": 6,
   "id": "e91cd298",
   "metadata": {},
   "outputs": [
    {
     "name": "stdout",
     "output_type": "stream",
     "text": [
      "['12-sample-videos']\n",
      "bukcet already exists\n"
     ]
    }
   ],
   "source": [
    "list_of_buckets = []\n",
    "for bucket in response['Buckets']:\n",
    "    list_of_buckets.append(bucket[\"Name\"])\n",
    "print(list_of_buckets)\n",
    "if bucket_name not in list_of_buckets:\n",
    "    response = s3_client.create_bucket(\n",
    "        ACL = 'private',\n",
    "        Bucket = '12-sample-videos',\n",
    "        CreateBucketConfiguration={'LocationConstraint': 'eu-west-1'}\n",
    "    )  \n",
    "    print('bukcet created')\n",
    "else: \n",
    "    print('bukcet already exists')"
   ]
  },
  {
   "cell_type": "markdown",
   "id": "5130cb05",
   "metadata": {},
   "source": [
    "## Upload File"
   ]
  },
  {
   "cell_type": "code",
   "execution_count": 7,
   "id": "c9175415",
   "metadata": {
    "scrolled": true
   },
   "outputs": [
    {
     "data": {
      "text/plain": [
       "['02_Deep Clean_RouteTwo_B_V2.mp4',\n",
       " 'black_friday_gif.mp4',\n",
       " 'christmas_proform (1).mp4',\n",
       " '15- edit Handy Andy Cream.mp4',\n",
       " 'skip_bucket_or.mp4']"
      ]
     },
     "execution_count": 7,
     "metadata": {},
     "output_type": "execute_result"
    }
   ],
   "source": [
    "# these are our video data\n",
    "files = os.listdir('data')\n",
    "random.sample(files, 5)"
   ]
  },
  {
   "cell_type": "code",
   "execution_count": 8,
   "id": "11e0ca20",
   "metadata": {},
   "outputs": [
    {
     "data": {
      "text/plain": [
       "['01_Deep Clean_RouteOne_V2.mp4',\n",
       " '02_Deep Clean_RouteTwo_B_V2.mp4',\n",
       " '03-Deep Clean_RouteThree_V2.mp4',\n",
       " '03_Deep Clean_Asset 3.mp4',\n",
       " '15- edit Domestos.mp4',\n",
       " '15- edit Handy Andy Cream.mp4',\n",
       " '15- edit Sunlight Glass.mp4',\n",
       " '15- edit Sunlight Pots.mp4',\n",
       " '333984_prs_lt_product-test-ce13_vid15_1080x1080_en.mp4',\n",
       " '346216_prs_lt_275966-renovate-and-repair-msl-op63-fail_vid15_1080x1350_en.mp4',\n",
       " '3in1_ceramic_or_sf.mp4',\n",
       " 'black_friday_gif.mp4',\n",
       " 'Cartoon 16x9 EDSF CTA 2.mp4',\n",
       " 'Cartoon 16x9 EDSF CTA.mp4',\n",
       " 'Cartoon 4x5 EDSF.mp4',\n",
       " 'Cartoon 9x16 EDSF CTA.mp4',\n",
       " 'Cartoon 9x16 EDSF NO CTA.mp4',\n",
       " 'Cartoon 9x16 TikTok EDSF NO CTA.mp4',\n",
       " 'christmas_proform (1).mp4',\n",
       " 'christmas_proform (2).mp4',\n",
       " 'christmas_proform.mp4',\n",
       " 'cleaningguide_1080x1080 2.mp4',\n",
       " 'cleaningguide_1080x1080.mp4',\n",
       " 'flu_season_video_2.mp4',\n",
       " 'Hand Hygiene Video BE FR.mp4',\n",
       " 'highfive_ss.mp4',\n",
       " 'iPhoneiOS13_ThingsYouCanSay_v2.mp4',\n",
       " 'j00525uk_uni_upro_occ_hand_hygiene_1x1.mp4',\n",
       " 'kr1013278kr_11910_bw3_lt_r29-small-bubble-pattern_vid15_1080x1920_en.mp4',\n",
       " 'kr1041689kr_233914_ccs_lt_r65-yeti-math-exam_vid15_1080x1350_en.mp4',\n",
       " 'kr1044123kr_271017_ccs_lt_r68-save-the-baby-octopuses_vid15_1080x1350_en.mp4',\n",
       " 'Laundry Powder+Stain&Whitening+Rest+P+OR 2.mp4',\n",
       " 'Laundry Powder+Stain&Whitening+Rest+P+OR 3.mp4',\n",
       " 'MacOS_ThingsYouCanSay.mp4',\n",
       " 'Oven_Grill Spray_M_OR_DACH.mp4',\n",
       " 'pf_busy_after_v1.mp4',\n",
       " 'pf_busy_short_after.mp4',\n",
       " 'pf_skip_bucket_or.mp4',\n",
       " 'PMI UNSMOKE FLORIDA 15s 1x1 FR.mp4',\n",
       " 'PMI UNSMOKE TEXAS 06s 1x1.mp4',\n",
       " 'skip_bucket_or.mp4',\n",
       " 'thank_you_cleaner_video_2.mp4']"
      ]
     },
     "execution_count": 8,
     "metadata": {},
     "output_type": "execute_result"
    }
   ],
   "source": [
    "files"
   ]
  },
  {
   "cell_type": "code",
   "execution_count": 9,
   "id": "23ef98c9",
   "metadata": {},
   "outputs": [
    {
     "data": {
      "text/plain": [
       "42"
      ]
     },
     "execution_count": 9,
     "metadata": {},
     "output_type": "execute_result"
    }
   ],
   "source": [
    "n_files = len(files)\n",
    "n_files"
   ]
  },
  {
   "cell_type": "code",
   "execution_count": 10,
   "id": "15ce292f",
   "metadata": {},
   "outputs": [],
   "source": [
    "# list objects in the bucket\n",
    "response = s3_client.list_objects(Bucket=bucket_name)\n",
    "objects_in_bucket = []\n",
    "# print out the content name\n",
    "for res in response['Contents']:\n",
    "    objects_in_bucket.append(res['Key'])"
   ]
  },
  {
   "cell_type": "code",
   "execution_count": 11,
   "id": "ee5ba84c",
   "metadata": {},
   "outputs": [
    {
     "data": {
      "text/plain": [
       "42"
      ]
     },
     "execution_count": 11,
     "metadata": {},
     "output_type": "execute_result"
    }
   ],
   "source": [
    "# check how many items are there now\n",
    "len(objects_in_bucket)"
   ]
  },
  {
   "cell_type": "code",
   "execution_count": 12,
   "id": "f3b9d20d",
   "metadata": {},
   "outputs": [],
   "source": [
    "# upload the file one by one, using its original name as the file name in S3\n",
    "# if the file already exists in the bucket, skip it\n",
    "for n in range(n_files):\n",
    "    if files[n] not in objects_in_bucket:\n",
    "        path = 'data/' + files[n]\n",
    "        response = s3_client.upload_file(path, bucket_name, files[n])"
   ]
  },
  {
   "cell_type": "code",
   "execution_count": 13,
   "id": "aac435ff",
   "metadata": {},
   "outputs": [],
   "source": [
    "# list objects in the bucket\n",
    "response = s3_client.list_objects(Bucket=bucket_name)\n",
    "objects_in_bucket_new = []\n",
    "# print out the content name\n",
    "for res in response['Contents']:\n",
    "    objects_in_bucket_new.append(res['Key'])"
   ]
  },
  {
   "cell_type": "code",
   "execution_count": 14,
   "id": "da48a54b",
   "metadata": {},
   "outputs": [
    {
     "data": {
      "text/plain": [
       "42"
      ]
     },
     "execution_count": 14,
     "metadata": {},
     "output_type": "execute_result"
    }
   ],
   "source": [
    "# check how many items are there now\n",
    "len(objects_in_bucket_new)"
   ]
  },
  {
   "cell_type": "code",
   "execution_count": 15,
   "id": "b058e2a6",
   "metadata": {},
   "outputs": [],
   "source": [
    "# to download file\n",
    "# response = s3_client.download_file('which file', 'download_as_name', r'download_to_path')"
   ]
  },
  {
   "cell_type": "markdown",
   "id": "77517168",
   "metadata": {},
   "source": [
    "# Run the file through AWS Rekognition "
   ]
  },
  {
   "cell_type": "code",
   "execution_count": 16,
   "id": "91f9d700",
   "metadata": {},
   "outputs": [],
   "source": [
    "rek_client = boto3.client('rekognition')"
   ]
  },
  {
   "cell_type": "markdown",
   "id": "9da75978",
   "metadata": {},
   "source": [
    "The video must be stored in an Amazon S3 bucket. Use Video to specify the bucket name and the filename of the video. StartLabelDetection returns a job identifier (JobId) which you use to get the results of the operation."
   ]
  },
  {
   "cell_type": "markdown",
   "id": "09f68a57",
   "metadata": {},
   "source": [
    "## Start label detection and get result"
   ]
  },
  {
   "cell_type": "code",
   "execution_count": 17,
   "id": "e12b6844",
   "metadata": {},
   "outputs": [],
   "source": [
    "# the free credits have a limitation of 20 jobs\n",
    "# thus, we will only run 20 files each time and then combine the results together \n",
    "job_id_list = []\n",
    "for n in range(20):    \n",
    "    # start label detection\n",
    "    response = rek_client.start_label_detection(MinConfidence = 80,\n",
    "                                                Video={'S3Object':{'Bucket':bucket_name,\n",
    "                                                                   'Name':files[n]}})\n",
    "    job_id_list.append(response['JobId'])"
   ]
  },
  {
   "cell_type": "code",
   "execution_count": 19,
   "id": "8de3474a",
   "metadata": {},
   "outputs": [],
   "source": [
    "# here you have to pause for a while\n",
    "# since the maximum of taks that AWS can process at once is 20\n",
    "\n",
    "for n in range(20, 40):\n",
    "    # start label detection\n",
    "    response = rek_client.start_label_detection(MinConfidence = 80,\n",
    "                                                Video={'S3Object':{'Bucket':bucket_name,\n",
    "                                                                   'Name':files[n]}})\n",
    "    job_id_list.append(response['JobId'])"
   ]
  },
  {
   "cell_type": "code",
   "execution_count": 20,
   "id": "b41e6b01",
   "metadata": {},
   "outputs": [],
   "source": [
    "for n in range(40, n_files):\n",
    "    # start label detection\n",
    "    response = rek_client.start_label_detection(MinConfidence = 80,\n",
    "                                                Video={'S3Object':{'Bucket':bucket_name,\n",
    "                                                                   'Name':files[n]}})\n",
    "    job_id_list.append(response['JobId'])"
   ]
  },
  {
   "cell_type": "code",
   "execution_count": 21,
   "id": "ca12ebea",
   "metadata": {},
   "outputs": [
    {
     "data": {
      "text/plain": [
       "43"
      ]
     },
     "execution_count": 21,
     "metadata": {},
     "output_type": "execute_result"
    }
   ],
   "source": [
    "len(job_id_list)"
   ]
  },
  {
   "cell_type": "code",
   "execution_count": 22,
   "id": "abeb893c",
   "metadata": {},
   "outputs": [],
   "source": [
    "# The result for each job id would probably be saved for 24 hours (for some services it's 7 days)\n",
    "# thus we would want to keep an record of these ids\n",
    "with open('job_ids.txt','w') as f:\n",
    "    f.write('\\n'.join(job_id_list))"
   ]
  },
  {
   "cell_type": "markdown",
   "id": "999f004d",
   "metadata": {},
   "source": [
    "**Wait for a while**"
   ]
  },
  {
   "cell_type": "code",
   "execution_count": 23,
   "id": "9ea226f9",
   "metadata": {},
   "outputs": [],
   "source": [
    "result_list = []\n",
    "# wait for a little while\n",
    "for n in range(len(files)):      \n",
    "    result = rek_client.get_label_detection(JobId=job_id_list[n],\n",
    "                                            SortBy='TIMESTAMP',\n",
    "                                           MaxResults = 5000)\n",
    "    result_list.append(result)"
   ]
  },
  {
   "cell_type": "code",
   "execution_count": 24,
   "id": "7375e651",
   "metadata": {},
   "outputs": [
    {
     "name": "stdout",
     "output_type": "stream",
     "text": [
      "42 out of 42 tasks completed\n"
     ]
    }
   ],
   "source": [
    "count = 0\n",
    "for n in range(len(files)):\n",
    "    if result_list[n]['JobStatus'] == 'SUCCEEDED':\n",
    "        count += 1\n",
    "print('%s out of %s tasks completed' % (count, n_files))"
   ]
  },
  {
   "cell_type": "markdown",
   "id": "7fb5823b",
   "metadata": {},
   "source": [
    "We would regard each appearence of the label as success since the minimum confidence is set high. Therefore, we could count the number of appearence."
   ]
  },
  {
   "cell_type": "markdown",
   "id": "7f01ecd1",
   "metadata": {},
   "source": [
    "**Save the label counts locally**"
   ]
  },
  {
   "cell_type": "code",
   "execution_count": 25,
   "id": "126bab5e",
   "metadata": {},
   "outputs": [],
   "source": [
    "list_labels = []\n",
    "for result in result_list:\n",
    "    n_instances = len(result['Labels'])\n",
    "    # print(n_instances)\n",
    "    labels = []\n",
    "    for instance in result['Labels']:\n",
    "        labels.append(instance['Label']['Name'])\n",
    "    list_labels.append(labels)"
   ]
  },
  {
   "cell_type": "code",
   "execution_count": 26,
   "id": "a918334e",
   "metadata": {},
   "outputs": [],
   "source": [
    "unique_label = np.unique([item for sublist in list_labels for item in sublist])"
   ]
  },
  {
   "cell_type": "code",
   "execution_count": 27,
   "id": "914ad9ba",
   "metadata": {},
   "outputs": [
    {
     "data": {
      "text/plain": [
       "224"
      ]
     },
     "execution_count": 27,
     "metadata": {},
     "output_type": "execute_result"
    }
   ],
   "source": [
    "len(unique_label)"
   ]
  },
  {
   "cell_type": "code",
   "execution_count": 28,
   "id": "f2162942",
   "metadata": {},
   "outputs": [],
   "source": [
    "# prepare an empty dataframe\n",
    "df = pd.DataFrame(np.zeros((len(files),len(unique_label))),\n",
    "                  columns = unique_label)"
   ]
  },
  {
   "cell_type": "code",
   "execution_count": 29,
   "id": "e7259701",
   "metadata": {},
   "outputs": [
    {
     "data": {
      "text/plain": [
       "(42, 224)"
      ]
     },
     "execution_count": 29,
     "metadata": {},
     "output_type": "execute_result"
    }
   ],
   "source": [
    "df.shape"
   ]
  },
  {
   "cell_type": "code",
   "execution_count": 30,
   "id": "c57c0032",
   "metadata": {},
   "outputs": [
    {
     "data": {
      "text/html": [
       "<div>\n",
       "<style scoped>\n",
       "    .dataframe tbody tr th:only-of-type {\n",
       "        vertical-align: middle;\n",
       "    }\n",
       "\n",
       "    .dataframe tbody tr th {\n",
       "        vertical-align: top;\n",
       "    }\n",
       "\n",
       "    .dataframe thead th {\n",
       "        text-align: right;\n",
       "    }\n",
       "</style>\n",
       "<table border=\"1\" class=\"dataframe\">\n",
       "  <thead>\n",
       "    <tr style=\"text-align: right;\">\n",
       "      <th></th>\n",
       "      <th>Accessories</th>\n",
       "      <th>Adult</th>\n",
       "      <th>Advertisement</th>\n",
       "      <th>Airport</th>\n",
       "      <th>Alcohol</th>\n",
       "      <th>Alien</th>\n",
       "      <th>Aluminium</th>\n",
       "      <th>Animal</th>\n",
       "      <th>Appliance</th>\n",
       "      <th>Architecture</th>\n",
       "      <th>...</th>\n",
       "      <th>Vest</th>\n",
       "      <th>Washer</th>\n",
       "      <th>Washing</th>\n",
       "      <th>Water</th>\n",
       "      <th>Weapon</th>\n",
       "      <th>Wedding</th>\n",
       "      <th>Wine</th>\n",
       "      <th>Wine Glass</th>\n",
       "      <th>Woman</th>\n",
       "      <th>Wood</th>\n",
       "    </tr>\n",
       "  </thead>\n",
       "  <tbody>\n",
       "    <tr>\n",
       "      <th>0</th>\n",
       "      <td>0.0</td>\n",
       "      <td>0.0</td>\n",
       "      <td>0.0</td>\n",
       "      <td>0.0</td>\n",
       "      <td>0.0</td>\n",
       "      <td>0.0</td>\n",
       "      <td>0.0</td>\n",
       "      <td>0.0</td>\n",
       "      <td>0.0</td>\n",
       "      <td>0.0</td>\n",
       "      <td>...</td>\n",
       "      <td>0.0</td>\n",
       "      <td>0.0</td>\n",
       "      <td>0.0</td>\n",
       "      <td>0.0</td>\n",
       "      <td>0.0</td>\n",
       "      <td>0.0</td>\n",
       "      <td>0.0</td>\n",
       "      <td>0.0</td>\n",
       "      <td>0.0</td>\n",
       "      <td>0.0</td>\n",
       "    </tr>\n",
       "    <tr>\n",
       "      <th>1</th>\n",
       "      <td>0.0</td>\n",
       "      <td>0.0</td>\n",
       "      <td>0.0</td>\n",
       "      <td>0.0</td>\n",
       "      <td>0.0</td>\n",
       "      <td>0.0</td>\n",
       "      <td>0.0</td>\n",
       "      <td>0.0</td>\n",
       "      <td>0.0</td>\n",
       "      <td>0.0</td>\n",
       "      <td>...</td>\n",
       "      <td>0.0</td>\n",
       "      <td>0.0</td>\n",
       "      <td>0.0</td>\n",
       "      <td>0.0</td>\n",
       "      <td>0.0</td>\n",
       "      <td>0.0</td>\n",
       "      <td>0.0</td>\n",
       "      <td>0.0</td>\n",
       "      <td>0.0</td>\n",
       "      <td>0.0</td>\n",
       "    </tr>\n",
       "  </tbody>\n",
       "</table>\n",
       "<p>2 rows × 224 columns</p>\n",
       "</div>"
      ],
      "text/plain": [
       "   Accessories  Adult  Advertisement  Airport  Alcohol  Alien  Aluminium  \\\n",
       "0          0.0    0.0            0.0      0.0      0.0    0.0        0.0   \n",
       "1          0.0    0.0            0.0      0.0      0.0    0.0        0.0   \n",
       "\n",
       "   Animal  Appliance  Architecture  ...  Vest  Washer  Washing  Water  Weapon  \\\n",
       "0     0.0        0.0           0.0  ...   0.0     0.0      0.0    0.0     0.0   \n",
       "1     0.0        0.0           0.0  ...   0.0     0.0      0.0    0.0     0.0   \n",
       "\n",
       "   Wedding  Wine  Wine Glass  Woman  Wood  \n",
       "0      0.0   0.0         0.0    0.0   0.0  \n",
       "1      0.0   0.0         0.0    0.0   0.0  \n",
       "\n",
       "[2 rows x 224 columns]"
      ]
     },
     "execution_count": 30,
     "metadata": {},
     "output_type": "execute_result"
    }
   ],
   "source": [
    "df.head(2)"
   ]
  },
  {
   "cell_type": "code",
   "execution_count": 31,
   "id": "28e0304e",
   "metadata": {},
   "outputs": [],
   "source": [
    "# Put the count value to the df\n",
    "for n in range(len(list_labels)):\n",
    "    unique, counts = np.unique(list_labels[n], return_counts=True)\n",
    "    for n2 in range(len(unique)):\n",
    "        word = unique[n2]\n",
    "        df[word].iloc[n] = counts[n2]"
   ]
  },
  {
   "cell_type": "code",
   "execution_count": 33,
   "id": "04b01f78",
   "metadata": {},
   "outputs": [
    {
     "data": {
      "text/html": [
       "<div>\n",
       "<style scoped>\n",
       "    .dataframe tbody tr th:only-of-type {\n",
       "        vertical-align: middle;\n",
       "    }\n",
       "\n",
       "    .dataframe tbody tr th {\n",
       "        vertical-align: top;\n",
       "    }\n",
       "\n",
       "    .dataframe thead th {\n",
       "        text-align: right;\n",
       "    }\n",
       "</style>\n",
       "<table border=\"1\" class=\"dataframe\">\n",
       "  <thead>\n",
       "    <tr style=\"text-align: right;\">\n",
       "      <th></th>\n",
       "      <th>Accessories</th>\n",
       "      <th>Adult</th>\n",
       "      <th>Advertisement</th>\n",
       "      <th>Airport</th>\n",
       "      <th>Alcohol</th>\n",
       "      <th>Alien</th>\n",
       "      <th>Aluminium</th>\n",
       "      <th>Animal</th>\n",
       "      <th>Appliance</th>\n",
       "      <th>Architecture</th>\n",
       "      <th>...</th>\n",
       "      <th>Vest</th>\n",
       "      <th>Washer</th>\n",
       "      <th>Washing</th>\n",
       "      <th>Water</th>\n",
       "      <th>Weapon</th>\n",
       "      <th>Wedding</th>\n",
       "      <th>Wine</th>\n",
       "      <th>Wine Glass</th>\n",
       "      <th>Woman</th>\n",
       "      <th>Wood</th>\n",
       "    </tr>\n",
       "  </thead>\n",
       "  <tbody>\n",
       "    <tr>\n",
       "      <th>0</th>\n",
       "      <td>0.0</td>\n",
       "      <td>21.0</td>\n",
       "      <td>0.0</td>\n",
       "      <td>0.0</td>\n",
       "      <td>0.0</td>\n",
       "      <td>0.0</td>\n",
       "      <td>0.0</td>\n",
       "      <td>0.0</td>\n",
       "      <td>0.0</td>\n",
       "      <td>0.0</td>\n",
       "      <td>...</td>\n",
       "      <td>0.0</td>\n",
       "      <td>0.0</td>\n",
       "      <td>0.0</td>\n",
       "      <td>0.0</td>\n",
       "      <td>0.0</td>\n",
       "      <td>21.0</td>\n",
       "      <td>0.0</td>\n",
       "      <td>0.0</td>\n",
       "      <td>21.0</td>\n",
       "      <td>0.0</td>\n",
       "    </tr>\n",
       "    <tr>\n",
       "      <th>1</th>\n",
       "      <td>0.0</td>\n",
       "      <td>0.0</td>\n",
       "      <td>9.0</td>\n",
       "      <td>0.0</td>\n",
       "      <td>0.0</td>\n",
       "      <td>0.0</td>\n",
       "      <td>0.0</td>\n",
       "      <td>0.0</td>\n",
       "      <td>0.0</td>\n",
       "      <td>0.0</td>\n",
       "      <td>...</td>\n",
       "      <td>0.0</td>\n",
       "      <td>0.0</td>\n",
       "      <td>0.0</td>\n",
       "      <td>0.0</td>\n",
       "      <td>0.0</td>\n",
       "      <td>0.0</td>\n",
       "      <td>0.0</td>\n",
       "      <td>0.0</td>\n",
       "      <td>0.0</td>\n",
       "      <td>0.0</td>\n",
       "    </tr>\n",
       "  </tbody>\n",
       "</table>\n",
       "<p>2 rows × 224 columns</p>\n",
       "</div>"
      ],
      "text/plain": [
       "   Accessories  Adult  Advertisement  Airport  Alcohol  Alien  Aluminium  \\\n",
       "0          0.0   21.0            0.0      0.0      0.0    0.0        0.0   \n",
       "1          0.0    0.0            9.0      0.0      0.0    0.0        0.0   \n",
       "\n",
       "   Animal  Appliance  Architecture  ...  Vest  Washer  Washing  Water  Weapon  \\\n",
       "0     0.0        0.0           0.0  ...   0.0     0.0      0.0    0.0     0.0   \n",
       "1     0.0        0.0           0.0  ...   0.0     0.0      0.0    0.0     0.0   \n",
       "\n",
       "   Wedding  Wine  Wine Glass  Woman  Wood  \n",
       "0     21.0   0.0         0.0   21.0   0.0  \n",
       "1      0.0   0.0         0.0    0.0   0.0  \n",
       "\n",
       "[2 rows x 224 columns]"
      ]
     },
     "execution_count": 33,
     "metadata": {},
     "output_type": "execute_result"
    }
   ],
   "source": [
    "df.head(2)"
   ]
  },
  {
   "cell_type": "code",
   "execution_count": 32,
   "id": "145e6a5e",
   "metadata": {},
   "outputs": [],
   "source": [
    "# add content length to the df\n",
    "content_lengths = []\n",
    "for result in result_list:\n",
    "    content_length = result['ResponseMetadata']['HTTPHeaders']['content-length']\n",
    "    content_lengths.append(content_length)"
   ]
  },
  {
   "cell_type": "code",
   "execution_count": 34,
   "id": "75a88959",
   "metadata": {},
   "outputs": [
    {
     "data": {
      "text/plain": [
       "array([53280, 13007, 12057, 11262, 61387])"
      ]
     },
     "execution_count": 34,
     "metadata": {},
     "output_type": "execute_result"
    }
   ],
   "source": [
    "content_lengths = np.array(content_lengths, dtype=int)\n",
    "content_lengths[0:5]"
   ]
  },
  {
   "cell_type": "code",
   "execution_count": 35,
   "id": "ae5e709f",
   "metadata": {},
   "outputs": [
    {
     "data": {
      "text/plain": [
       "42"
      ]
     },
     "execution_count": 35,
     "metadata": {},
     "output_type": "execute_result"
    }
   ],
   "source": [
    "len(content_lengths)"
   ]
  },
  {
   "cell_type": "code",
   "execution_count": 36,
   "id": "023be4a5",
   "metadata": {},
   "outputs": [],
   "source": [
    "df['content_lengths'] = content_lengths"
   ]
  },
  {
   "cell_type": "code",
   "execution_count": 37,
   "id": "7ec9e83f",
   "metadata": {},
   "outputs": [
    {
     "data": {
      "text/plain": [
       "(42, 225)"
      ]
     },
     "execution_count": 37,
     "metadata": {},
     "output_type": "execute_result"
    }
   ],
   "source": [
    "df.shape"
   ]
  },
  {
   "cell_type": "code",
   "execution_count": 38,
   "id": "dcc7aa81",
   "metadata": {},
   "outputs": [],
   "source": [
    "# save this df of count\n",
    "# df.to_csv('sample_video_label_count.csv',index=False)"
   ]
  }
 ],
 "metadata": {
  "kernelspec": {
   "display_name": "Python 3 (ipykernel)",
   "language": "python",
   "name": "python3"
  },
  "language_info": {
   "codemirror_mode": {
    "name": "ipython",
    "version": 3
   },
   "file_extension": ".py",
   "mimetype": "text/x-python",
   "name": "python",
   "nbconvert_exporter": "python",
   "pygments_lexer": "ipython3",
   "version": "3.9.12"
  },
  "toc": {
   "base_numbering": 1,
   "nav_menu": {},
   "number_sections": true,
   "sideBar": true,
   "skip_h1_title": false,
   "title_cell": "Table of Contents",
   "title_sidebar": "Contents",
   "toc_cell": true,
   "toc_position": {
    "height": "calc(100% - 180px)",
    "left": "10px",
    "top": "150px",
    "width": "165px"
   },
   "toc_section_display": true,
   "toc_window_display": true
  },
  "varInspector": {
   "cols": {
    "lenName": 16,
    "lenType": 16,
    "lenVar": 40
   },
   "kernels_config": {
    "python": {
     "delete_cmd_postfix": "",
     "delete_cmd_prefix": "del ",
     "library": "var_list.py",
     "varRefreshCmd": "print(var_dic_list())"
    },
    "r": {
     "delete_cmd_postfix": ") ",
     "delete_cmd_prefix": "rm(",
     "library": "var_list.r",
     "varRefreshCmd": "cat(var_dic_list()) "
    }
   },
   "types_to_exclude": [
    "module",
    "function",
    "builtin_function_or_method",
    "instance",
    "_Feature"
   ],
   "window_display": false
  }
 },
 "nbformat": 4,
 "nbformat_minor": 5
}
