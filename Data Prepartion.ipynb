{
 "cells": [
  {
   "cell_type": "markdown",
   "id": "8177cc24",
   "metadata": {
    "toc": true
   },
   "source": [
    "<h1>Table of Contents<span class=\"tocSkip\"></span></h1>\n",
    "<div class=\"toc\"><ul class=\"toc-item\"><li><span><a href=\"#Load-and-Tidy-Data\" data-toc-modified-id=\"Load-and-Tidy-Data-1\"><span class=\"toc-item-num\">1&nbsp;&nbsp;</span>Load and Tidy Data</a></span></li><li><span><a href=\"#Data-Exploration\" data-toc-modified-id=\"Data-Exploration-2\"><span class=\"toc-item-num\">2&nbsp;&nbsp;</span>Data Exploration</a></span></li><li><span><a href=\"#Create-Synthetic-Video-Data\" data-toc-modified-id=\"Create-Synthetic-Video-Data-3\"><span class=\"toc-item-num\">3&nbsp;&nbsp;</span>Create Synthetic Video Data</a></span></li><li><span><a href=\"#Create-Synthetic-Customer-Profile-and-Rating\" data-toc-modified-id=\"Create-Synthetic-Customer-Profile-and-Rating-4\"><span class=\"toc-item-num\">4&nbsp;&nbsp;</span>Create Synthetic Customer Profile and Rating</a></span><ul class=\"toc-item\"><li><span><a href=\"#Generate-Customer-Data\" data-toc-modified-id=\"Generate-Customer-Data-4.1\"><span class=\"toc-item-num\">4.1&nbsp;&nbsp;</span>Generate Customer Data</a></span></li><li><span><a href=\"#Explore-Customer-Data\" data-toc-modified-id=\"Explore-Customer-Data-4.2\"><span class=\"toc-item-num\">4.2&nbsp;&nbsp;</span>Explore Customer Data</a></span></li><li><span><a href=\"#Generate-Customer-Ratings-for-Videos\" data-toc-modified-id=\"Generate-Customer-Ratings-for-Videos-4.3\"><span class=\"toc-item-num\">4.3&nbsp;&nbsp;</span>Generate Customer Ratings for Videos</a></span></li></ul></li><li><span><a href=\"#Tidy-Data\" data-toc-modified-id=\"Tidy-Data-5\"><span class=\"toc-item-num\">5&nbsp;&nbsp;</span>Tidy Data</a></span></li></ul></div>"
   ]
  },
  {
   "cell_type": "code",
   "execution_count": 1,
   "id": "cb5ea9ba",
   "metadata": {},
   "outputs": [],
   "source": [
    "import warnings\n",
    "warnings.filterwarnings(\"ignore\")"
   ]
  },
  {
   "cell_type": "code",
   "execution_count": 2,
   "id": "f8c1647b",
   "metadata": {},
   "outputs": [],
   "source": [
    "import os # File management\n",
    "\n",
    "# data management\n",
    "import numpy as np\n",
    "import pandas as pd\n",
    "\n",
    "# visualization\n",
    "import seaborn as sns\n",
    "import matplotlib.pyplot as plt\n",
    "\n",
    "# small tools\n",
    "import time\n",
    "from sklearn.preprocessing import StandardScaler\n",
    "import random\n",
    "import math\n",
    "from statistics import mean\n",
    "\n",
    "# create synthetic data\n",
    "from ctgan import CTGAN"
   ]
  },
  {
   "cell_type": "markdown",
   "id": "029bca00",
   "metadata": {},
   "source": [
    "# Load and Tidy Data"
   ]
  },
  {
   "cell_type": "code",
   "execution_count": 3,
   "id": "84e9d6c3",
   "metadata": {},
   "outputs": [
    {
     "data": {
      "text/plain": [
       "42"
      ]
     },
     "execution_count": 3,
     "metadata": {},
     "output_type": "execute_result"
    }
   ],
   "source": [
    "files = os.listdir('data')\n",
    "n_files = len(files)\n",
    "n_files"
   ]
  },
  {
   "cell_type": "code",
   "execution_count": 4,
   "id": "7aa35fa6",
   "metadata": {},
   "outputs": [],
   "source": [
    "df = pd.read_csv('sample_video_label_count.csv')"
   ]
  },
  {
   "cell_type": "code",
   "execution_count": 5,
   "id": "a11b13ea",
   "metadata": {},
   "outputs": [
    {
     "data": {
      "text/html": [
       "<div>\n",
       "<style scoped>\n",
       "    .dataframe tbody tr th:only-of-type {\n",
       "        vertical-align: middle;\n",
       "    }\n",
       "\n",
       "    .dataframe tbody tr th {\n",
       "        vertical-align: top;\n",
       "    }\n",
       "\n",
       "    .dataframe thead th {\n",
       "        text-align: right;\n",
       "    }\n",
       "</style>\n",
       "<table border=\"1\" class=\"dataframe\">\n",
       "  <thead>\n",
       "    <tr style=\"text-align: right;\">\n",
       "      <th></th>\n",
       "      <th>Accessories</th>\n",
       "      <th>Adult</th>\n",
       "      <th>Advertisement</th>\n",
       "      <th>Airport</th>\n",
       "      <th>Alcohol</th>\n",
       "      <th>Alien</th>\n",
       "      <th>Aluminium</th>\n",
       "      <th>Animal</th>\n",
       "      <th>Apartment Building</th>\n",
       "      <th>Appliance</th>\n",
       "      <th>...</th>\n",
       "      <th>Washer</th>\n",
       "      <th>Washing</th>\n",
       "      <th>Water</th>\n",
       "      <th>Weapon</th>\n",
       "      <th>Wedding</th>\n",
       "      <th>Wine</th>\n",
       "      <th>Wine Glass</th>\n",
       "      <th>Woman</th>\n",
       "      <th>Wood</th>\n",
       "      <th>content_lengths</th>\n",
       "    </tr>\n",
       "  </thead>\n",
       "  <tbody>\n",
       "    <tr>\n",
       "      <th>0</th>\n",
       "      <td>0.0</td>\n",
       "      <td>21.0</td>\n",
       "      <td>0.0</td>\n",
       "      <td>0.0</td>\n",
       "      <td>0.0</td>\n",
       "      <td>0.0</td>\n",
       "      <td>0.0</td>\n",
       "      <td>0.0</td>\n",
       "      <td>0.0</td>\n",
       "      <td>0.0</td>\n",
       "      <td>...</td>\n",
       "      <td>0.0</td>\n",
       "      <td>0.0</td>\n",
       "      <td>0.0</td>\n",
       "      <td>0.0</td>\n",
       "      <td>21.0</td>\n",
       "      <td>0.0</td>\n",
       "      <td>0.0</td>\n",
       "      <td>21.0</td>\n",
       "      <td>0.0</td>\n",
       "      <td>53280</td>\n",
       "    </tr>\n",
       "    <tr>\n",
       "      <th>1</th>\n",
       "      <td>0.0</td>\n",
       "      <td>0.0</td>\n",
       "      <td>9.0</td>\n",
       "      <td>0.0</td>\n",
       "      <td>0.0</td>\n",
       "      <td>0.0</td>\n",
       "      <td>0.0</td>\n",
       "      <td>0.0</td>\n",
       "      <td>0.0</td>\n",
       "      <td>0.0</td>\n",
       "      <td>...</td>\n",
       "      <td>0.0</td>\n",
       "      <td>0.0</td>\n",
       "      <td>0.0</td>\n",
       "      <td>0.0</td>\n",
       "      <td>0.0</td>\n",
       "      <td>0.0</td>\n",
       "      <td>0.0</td>\n",
       "      <td>0.0</td>\n",
       "      <td>0.0</td>\n",
       "      <td>13007</td>\n",
       "    </tr>\n",
       "    <tr>\n",
       "      <th>2</th>\n",
       "      <td>0.0</td>\n",
       "      <td>2.0</td>\n",
       "      <td>0.0</td>\n",
       "      <td>0.0</td>\n",
       "      <td>0.0</td>\n",
       "      <td>0.0</td>\n",
       "      <td>0.0</td>\n",
       "      <td>0.0</td>\n",
       "      <td>0.0</td>\n",
       "      <td>0.0</td>\n",
       "      <td>...</td>\n",
       "      <td>0.0</td>\n",
       "      <td>0.0</td>\n",
       "      <td>0.0</td>\n",
       "      <td>0.0</td>\n",
       "      <td>2.0</td>\n",
       "      <td>0.0</td>\n",
       "      <td>0.0</td>\n",
       "      <td>2.0</td>\n",
       "      <td>0.0</td>\n",
       "      <td>12057</td>\n",
       "    </tr>\n",
       "    <tr>\n",
       "      <th>3</th>\n",
       "      <td>0.0</td>\n",
       "      <td>0.0</td>\n",
       "      <td>10.0</td>\n",
       "      <td>0.0</td>\n",
       "      <td>0.0</td>\n",
       "      <td>0.0</td>\n",
       "      <td>0.0</td>\n",
       "      <td>2.0</td>\n",
       "      <td>0.0</td>\n",
       "      <td>0.0</td>\n",
       "      <td>...</td>\n",
       "      <td>0.0</td>\n",
       "      <td>0.0</td>\n",
       "      <td>0.0</td>\n",
       "      <td>0.0</td>\n",
       "      <td>0.0</td>\n",
       "      <td>0.0</td>\n",
       "      <td>0.0</td>\n",
       "      <td>0.0</td>\n",
       "      <td>0.0</td>\n",
       "      <td>11262</td>\n",
       "    </tr>\n",
       "    <tr>\n",
       "      <th>4</th>\n",
       "      <td>2.0</td>\n",
       "      <td>19.0</td>\n",
       "      <td>0.0</td>\n",
       "      <td>0.0</td>\n",
       "      <td>0.0</td>\n",
       "      <td>0.0</td>\n",
       "      <td>0.0</td>\n",
       "      <td>0.0</td>\n",
       "      <td>0.0</td>\n",
       "      <td>2.0</td>\n",
       "      <td>...</td>\n",
       "      <td>0.0</td>\n",
       "      <td>0.0</td>\n",
       "      <td>0.0</td>\n",
       "      <td>0.0</td>\n",
       "      <td>0.0</td>\n",
       "      <td>0.0</td>\n",
       "      <td>0.0</td>\n",
       "      <td>11.0</td>\n",
       "      <td>0.0</td>\n",
       "      <td>61387</td>\n",
       "    </tr>\n",
       "  </tbody>\n",
       "</table>\n",
       "<p>5 rows × 236 columns</p>\n",
       "</div>"
      ],
      "text/plain": [
       "   Accessories  Adult  Advertisement  Airport  Alcohol  Alien  Aluminium  \\\n",
       "0          0.0   21.0            0.0      0.0      0.0    0.0        0.0   \n",
       "1          0.0    0.0            9.0      0.0      0.0    0.0        0.0   \n",
       "2          0.0    2.0            0.0      0.0      0.0    0.0        0.0   \n",
       "3          0.0    0.0           10.0      0.0      0.0    0.0        0.0   \n",
       "4          2.0   19.0            0.0      0.0      0.0    0.0        0.0   \n",
       "\n",
       "   Animal  Apartment Building  Appliance  ...  Washer  Washing  Water  Weapon  \\\n",
       "0     0.0                 0.0        0.0  ...     0.0      0.0    0.0     0.0   \n",
       "1     0.0                 0.0        0.0  ...     0.0      0.0    0.0     0.0   \n",
       "2     0.0                 0.0        0.0  ...     0.0      0.0    0.0     0.0   \n",
       "3     2.0                 0.0        0.0  ...     0.0      0.0    0.0     0.0   \n",
       "4     0.0                 0.0        2.0  ...     0.0      0.0    0.0     0.0   \n",
       "\n",
       "   Wedding  Wine  Wine Glass  Woman  Wood  content_lengths  \n",
       "0     21.0   0.0         0.0   21.0   0.0            53280  \n",
       "1      0.0   0.0         0.0    0.0   0.0            13007  \n",
       "2      2.0   0.0         0.0    2.0   0.0            12057  \n",
       "3      0.0   0.0         0.0    0.0   0.0            11262  \n",
       "4      0.0   0.0         0.0   11.0   0.0            61387  \n",
       "\n",
       "[5 rows x 236 columns]"
      ]
     },
     "execution_count": 5,
     "metadata": {},
     "output_type": "execute_result"
    }
   ],
   "source": [
    "df.head(5)"
   ]
  },
  {
   "cell_type": "code",
   "execution_count": 6,
   "id": "fd5b2528",
   "metadata": {},
   "outputs": [
    {
     "data": {
      "text/plain": [
       "(42, 236)"
      ]
     },
     "execution_count": 6,
     "metadata": {},
     "output_type": "execute_result"
    }
   ],
   "source": [
    "df.shape"
   ]
  },
  {
   "cell_type": "code",
   "execution_count": 7,
   "id": "2f609f81",
   "metadata": {},
   "outputs": [
    {
     "data": {
      "text/plain": [
       "content_lengths      241443.0\n",
       "Mobile Phone            150.0\n",
       "Electronics             150.0\n",
       "Phone                   150.0\n",
       "Computer                103.0\n",
       "Screen                   98.0\n",
       "Computer Hardware        96.0\n",
       "Monitor                  96.0\n",
       "Hardware                 96.0\n",
       "Pc                       92.0\n",
       "Laptop                   83.0\n",
       "Tablet Computer          63.0\n",
       "Person                   61.0\n",
       "Head                     43.0\n",
       "Face                     43.0\n",
       "Advertisement            33.0\n",
       "Text                     32.0\n",
       "Poster                   30.0\n",
       "Adult                    29.0\n",
       "Woman                    27.0\n",
       "Female                   27.0\n",
       "Sweets                   26.0\n",
       "dtype: float64"
      ]
     },
     "execution_count": 7,
     "metadata": {},
     "output_type": "execute_result"
    }
   ],
   "source": [
    "df.max().sort_values(ascending=False)[0:22]"
   ]
  },
  {
   "cell_type": "markdown",
   "id": "20dd38c1",
   "metadata": {},
   "source": [
    "# Data Exploration"
   ]
  },
  {
   "cell_type": "code",
   "execution_count": 8,
   "id": "b5c403f6",
   "metadata": {},
   "outputs": [],
   "source": [
    "# Draw a bar chart for total object appearences"
   ]
  },
  {
   "cell_type": "code",
   "execution_count": 9,
   "id": "cf49a4d4",
   "metadata": {},
   "outputs": [],
   "source": [
    "# Draw a bar chart for the number of objects per video"
   ]
  },
  {
   "cell_type": "markdown",
   "id": "06a0878f",
   "metadata": {},
   "source": [
    "# Create Synthetic Video Data\n",
    "Currently there are only 42 videos for analysis. That's not a sufficient amount. Before the vast amount of video data becomes available, synthetic video data would be generated based on the distribution of objects in the sample video data.\n",
    "\n",
    "Synthetic data focuses on taking a real dataset and creating synthetic data that has similar statistical properties. \n",
    "\n",
    "In order to do this, we need to use a generative model that would learn an approximated distribution that is comparable to the real data (Wehmeyer, 2021). \n",
    "\n",
    "For the first part, we approximated a marginal distribution which takes the count of occurrence of each value in each coloumn for the original dataset independently. We also try another approach of approximating using a joint distribution that takes the possible connections between the coloumns (Wehmeyer, 2021). "
   ]
  },
  {
   "cell_type": "code",
   "execution_count": 10,
   "id": "3e2594b9",
   "metadata": {},
   "outputs": [],
   "source": [
    "def check_for_missing_values(df):\n",
    "    # Check for both None and NaN values\n",
    "    missing_values = df.isna().any().any()\n",
    "    return missing_values"
   ]
  },
  {
   "cell_type": "code",
   "execution_count": 11,
   "id": "b1adfb3f",
   "metadata": {},
   "outputs": [
    {
     "data": {
      "text/plain": [
       "False"
      ]
     },
     "execution_count": 11,
     "metadata": {},
     "output_type": "execute_result"
    }
   ],
   "source": [
    "check_for_missing_values(df)"
   ]
  },
  {
   "cell_type": "code",
   "execution_count": 12,
   "id": "67bb765f",
   "metadata": {},
   "outputs": [],
   "source": [
    "def generate_synthetic_data_ctgan(df, num_samples):\n",
    "\n",
    "    #Training the CTGAN model on the encoded data\n",
    "    ctgan_model = CTGAN()\n",
    "    ctgan_model.fit(df)\n",
    "\n",
    "    #Generate the synthetic data\n",
    "    synth_data_ctgan = ctgan_model.sample(num_samples)\n",
    "\n",
    "    return synth_data_ctgan"
   ]
  },
  {
   "cell_type": "code",
   "execution_count": 13,
   "id": "d97d1863",
   "metadata": {},
   "outputs": [],
   "source": [
    "# from sdv.evaluation import evaluate\n",
    "# evaluate(new_data, data)"
   ]
  },
  {
   "cell_type": "code",
   "execution_count": 14,
   "id": "7df3e518",
   "metadata": {},
   "outputs": [],
   "source": [
    "def convert_float_to_integer(df):\n",
    "    for col in df.columns:\n",
    "        if df[col].dtype == 'float64':\n",
    "            df[col] = df[col].astype(int)\n",
    "    return df"
   ]
  },
  {
   "cell_type": "code",
   "execution_count": 15,
   "id": "69a0e3fa",
   "metadata": {},
   "outputs": [],
   "source": [
    "df = convert_float_to_integer(df)"
   ]
  },
  {
   "cell_type": "markdown",
   "id": "ce23c33c",
   "metadata": {},
   "source": [
    "# Create Synthetic Customer Profile and Rating"
   ]
  },
  {
   "cell_type": "markdown",
   "id": "7ec93a8b",
   "metadata": {},
   "source": [
    "## Generate Customer Data"
   ]
  },
  {
   "cell_type": "code",
   "execution_count": 16,
   "id": "a7ad9073",
   "metadata": {},
   "outputs": [],
   "source": [
    "customer_types = [\n",
    "    {\n",
    "        \"type\": \"Affluent Achievers\",\n",
    "        \"percentage\": 22.50,\n",
    "        \"age_range\": [55, 80],\n",
    "        \"house_type\": \"Detached house\",\n",
    "        \"children_at_home\": [0, 0],\n",
    "        \"house_tenure\": \"Owned outright\",\n",
    "        \"income_range\": [37, 54]\n",
    "    },\n",
    "    {\n",
    "        \"type\": \"Rising Prosperity\",\n",
    "        \"percentage\": 9.30,\n",
    "        \"age_range\": [25, 44],\n",
    "        \"house_type\": \"Flat or maisonette\",\n",
    "        \"children_at_home\": [0, 0],\n",
    "        \"house_tenure\": \"Privately renting\",\n",
    "        \"income_range\": [43, 65]\n",
    "    },\n",
    "    {\n",
    "        \"type\": \"Comfortable Communities\",\n",
    "        \"percentage\": 27.00,\n",
    "        \"age_range\": [35, 64],\n",
    "        \"house_type\": \"Semi-detached or detached\",\n",
    "        \"children_at_home\": [0, 2],\n",
    "        \"house_tenure\": \"Owned outright or mortgaged\",\n",
    "        \"income_range\": [22, 52]\n",
    "    },\n",
    "    {\n",
    "        \"type\": \"Financially Stretched\",\n",
    "        \"percentage\": 23.20,\n",
    "        \"age_range\": [0, 100],\n",
    "        \"house_type\": \"Semi-detached or terraced\",\n",
    "        \"children_at_home\": [0, 3],\n",
    "        \"house_tenure\": \"Social renting\",\n",
    "        \"income_range\": [12, 44]\n",
    "    },\n",
    "    {\n",
    "        \"type\": \"Urban Adversity\",\n",
    "        \"percentage\": 17.00,\n",
    "        \"age_range\": [16, 34],\n",
    "        \"house_type\": \"Flat or terraced\",\n",
    "        \"children_at_home\": [3, 10],\n",
    "        \"house_tenure\": \"Social renting\",\n",
    "        \"income_range\": [17, 34]\n",
    "    }\n",
    "]\n",
    "\n",
    "genders = [\"Male\", \"Female\"]"
   ]
  },
  {
   "cell_type": "code",
   "execution_count": 17,
   "id": "f07d1eab",
   "metadata": {},
   "outputs": [],
   "source": [
    "n_customer = 650"
   ]
  },
  {
   "cell_type": "code",
   "execution_count": 18,
   "id": "9337f6d0",
   "metadata": {},
   "outputs": [],
   "source": [
    "# Generate the customer dataset\n",
    "dataset = []\n",
    "num_videos = len(files)  # Number of videos (you can change this as needed)\n",
    "\n",
    "random.seed(1234)\n",
    "for customer_type in customer_types:\n",
    "    num_customers = int(customer_type[\"percentage\"] / 100 * n_customer)\n",
    "    for _ in range(num_customers):\n",
    "        age = random.randint(customer_type[\"age_range\"][0], customer_type[\"age_range\"][1])\n",
    "        children = random.randint(customer_type[\"children_at_home\"][0], customer_type[\"children_at_home\"][1])\n",
    "        income = random.randint(customer_type[\"income_range\"][0], customer_type[\"income_range\"][1])\n",
    "        gender = random.choice(genders)\n",
    "        dataset.append([\n",
    "            customer_type[\"type\"],\n",
    "            age,\n",
    "            customer_type[\"house_type\"],\n",
    "            children,\n",
    "            customer_type[\"house_tenure\"],\n",
    "            income,\n",
    "            gender\n",
    "        ])"
   ]
  },
  {
   "cell_type": "code",
   "execution_count": 19,
   "id": "5b540489",
   "metadata": {},
   "outputs": [],
   "source": [
    "#columns = [\"Customer Type\", \"Age\", \"House Type\", \"Children at Home\", \"House Tenure\", \"Income\", \"Gender\", *video_columns]"
   ]
  },
  {
   "cell_type": "code",
   "execution_count": 20,
   "id": "2a77baea",
   "metadata": {},
   "outputs": [],
   "source": [
    "columns = [\"Customer Type\", \"Age\", \"House Type\", \"Children at Home\", \"House Tenure\", \"Income\", \"Gender\"]\n",
    "customer_data = pd.DataFrame(dataset, columns=columns)"
   ]
  },
  {
   "cell_type": "code",
   "execution_count": 21,
   "id": "0ae53581",
   "metadata": {},
   "outputs": [
    {
     "data": {
      "text/plain": [
       "(641, 7)"
      ]
     },
     "execution_count": 21,
     "metadata": {},
     "output_type": "execute_result"
    }
   ],
   "source": [
    "customer_data.shape"
   ]
  },
  {
   "cell_type": "markdown",
   "id": "497193e4",
   "metadata": {},
   "source": [
    "## Explore Customer Data"
   ]
  },
  {
   "cell_type": "code",
   "execution_count": 22,
   "id": "37874163",
   "metadata": {},
   "outputs": [
    {
     "data": {
      "image/png": "[encoded data removed]",
      "text/plain": [
       "<Figure size 720x432 with 1 Axes>"
      ]
     },
     "metadata": {
      "needs_background": "light"
     },
     "output_type": "display_data"
    }
   ],
   "source": [
    "# Count the number of customers per customer type\n",
    "customer_type_counts = customer_data['Customer Type'].value_counts()\n",
    "\n",
    "# Match the color with ACORN customer type\n",
    "colors = [\"blue\", \"purple\", \"green\", \"orange\", \"lightblue\"]\n",
    "\n",
    "# Create the bar chart using Seaborn with custom colors\n",
    "plt.figure(figsize=(10, 6))\n",
    "sns.barplot(x=customer_type_counts.index, y=customer_type_counts.values, palette=colors)\n",
    "\n",
    "plt.title('Customer Type Distribution')\n",
    "plt.xlabel('Customer Type')\n",
    "plt.ylabel('Count')\n",
    "\n",
    "# Rotate x-axis\n",
    "plt.xticks(rotation=45)\n",
    "for i in range(len(customer_type_counts.values)):\n",
    "    plt.text(x=i, y=customer_type_counts.values[i], s=str(customer_type_counts.values[i]), ha='center', va='bottom')\n",
    "    \n",
    "plt.show()"
   ]
  },
  {
   "cell_type": "code",
   "execution_count": 23,
   "id": "349e030a",
   "metadata": {},
   "outputs": [
    {
     "data": {
      "image/png": "[encoded data removed]",
      "text/plain": [
       "<Figure size 432x288 with 1 Axes>"
      ]
     },
     "metadata": {
      "needs_background": "light"
     },
     "output_type": "display_data"
    }
   ],
   "source": [
    "mean_age_by_group = customer_data.groupby('Customer Type')['Age'].mean().reset_index()\n",
    "\n",
    "# Plot the mean age by group using a bar chart\n",
    "plt.bar(mean_age_by_group['Customer Type'], mean_age_by_group['Age'])\n",
    "plt.xlabel('Group')\n",
    "plt.ylabel('Mean Age')\n",
    "plt.title('Mean Age by Customer Type')\n",
    "plt.xticks(rotation=90)\n",
    "plt.show()"
   ]
  },
  {
   "cell_type": "markdown",
   "id": "350ea346",
   "metadata": {},
   "source": [
    "## Generate Customer Ratings for Videos"
   ]
  },
  {
   "cell_type": "markdown",
   "id": "87b7b7d5",
   "metadata": {},
   "source": [
    "The logic here is that each customers would have labels that they like and they don't like. Then, their rating for a movie is the average of their rating for each label. Since the rating for each label already has some level of randomness, it is likely that the rating for the movie vary a lot."
   ]
  },
  {
   "cell_type": "code",
   "execution_count": 24,
   "id": "7f900f33",
   "metadata": {},
   "outputs": [],
   "source": [
    "def plot_probability(probs, n_col = 3):\n",
    "    values = ['1','2','3','4','5','6','7','8','9','10']\n",
    "    \n",
    "    if len(probs) == 1:\n",
    "        print(\"the length of the input list has to have at least two elements\")\n",
    "    else:\n",
    "        n_row = math.ceil(len(probs)/n_col)\n",
    "        if n_row == 1:\n",
    "            fig, axis = plt.subplots(1,len(probs),figsize=(15,n_row*5))\n",
    "\n",
    "            col = 0\n",
    "            for n in range(len(probs)):\n",
    "                prob = probs[n]\n",
    "                axis[col].bar(values,prob)\n",
    "                # set title\n",
    "                axis[col].set_title('Rating Probability %s' % n)\n",
    "\n",
    "                # move the coordination\n",
    "                col += 1\n",
    "\n",
    "        else:\n",
    "            fig, axis = plt.subplots(n_row, n_col,figsize=(n_col*5,n_row*5),sharey=True)\n",
    "\n",
    "            row = 0\n",
    "            col = 0\n",
    "            for n in range(len(probs)):\n",
    "                prob = probs[n]\n",
    "                # print(row, col)\n",
    "                axis[row,col].bar(values,prob)\n",
    "\n",
    "                # set title\n",
    "                axis[row,col].set_title('Rating Probability %s' % (n+1))\n",
    "\n",
    "                # move the coordination\n",
    "                col += 1\n",
    "                if col == n_col:\n",
    "                    col = 0\n",
    "                    row = row + 1"
   ]
  },
  {
   "cell_type": "code",
   "execution_count": 25,
   "id": "1069bddb",
   "metadata": {},
   "outputs": [],
   "source": [
    "probs_high = [[0.05, 0.06, 0.07, 0.08, 0.09, 0.10, 0.15, 0.20, 0.10, 0.10],\n",
    "        [0.01, 0.02, 0.03, 0.04, 0.05, 0.10, 0.15, 0.20, 0.25, 0.15],\n",
    "        [0.02, 0.03, 0.05, 0.07, 0.10, 0.20, 0.20, 0.20, 0.10, 0.03]]\n",
    "probs_medium = [[0.05, 0.10, 0.10, 0.15, 0.30, 0.17, 0.05, 0.04, 0.03, 0.01],\n",
    "               [0.02, 0.10, 0.10, 0.15, 0.20, 0.20, 0.10, 0.05, 0.05, 0.03],\n",
    "               [0.02, 0.03, 0.05, 0.07, 0.25, 0.15, 0.20, 0.10, 0.10, 0.03]]\n",
    "probs_low = [[0.10, 0.15, 0.20, 0.15, 0.10, 0.10, 0.10, 0.05, 0.03, 0.02],\n",
    "             [0.20, 0.20, 0.15, 0.10, 0.10, 0.10, 0.05, 0.05, 0.03, 0.02],\n",
    "            [0.15, 0.30, 0.15, 0.10, 0.10, 0.07, 0.05, 0.04, 0.03, 0.01]]"
   ]
  },
  {
   "cell_type": "code",
   "execution_count": 26,
   "id": "54ae55c7",
   "metadata": {},
   "outputs": [
    {
     "data": {
      "image/png": "[encoded data removed]",
      "text/plain": [
       "<Figure size 1080x1080 with 9 Axes>"
      ]
     },
     "metadata": {
      "needs_background": "light"
     },
     "output_type": "display_data"
    }
   ],
   "source": [
    "plot_probability(probs_low + probs_medium + probs_high)\n",
    "plt.suptitle(\"Nine rating probabilities\", fontsize=16)\n",
    "plt.tight_layout()"
   ]
  },
  {
   "cell_type": "code",
   "execution_count": 27,
   "id": "a8a64149",
   "metadata": {},
   "outputs": [],
   "source": [
    "rating_levels = pd.DataFrame()\n",
    "# Set seeds for the random choices\n",
    "np.random.seed(1234)\n",
    "for n in range(5):\n",
    "    # minus one since the last column is video length\n",
    "    rating_level = np.random.choice(['low','medium','high'],\n",
    "                                    size = (df.shape[1]-1),\n",
    "                                    p = [0.3,0.4,0.3])\n",
    "    rating_level = pd.DataFrame(rating_level).T\n",
    "    # merge the dataframe\n",
    "    rating_levels = pd.concat([rating_levels, rating_level])"
   ]
  },
  {
   "cell_type": "code",
   "execution_count": 28,
   "id": "8c8578a8",
   "metadata": {},
   "outputs": [],
   "source": [
    "rating_levels.index = [types['type'] for types in customer_types]"
   ]
  },
  {
   "cell_type": "code",
   "execution_count": 29,
   "id": "0e75b963",
   "metadata": {},
   "outputs": [
    {
     "data": {
      "text/html": [
       "<div>\n",
       "<style scoped>\n",
       "    .dataframe tbody tr th:only-of-type {\n",
       "        vertical-align: middle;\n",
       "    }\n",
       "\n",
       "    .dataframe tbody tr th {\n",
       "        vertical-align: top;\n",
       "    }\n",
       "\n",
       "    .dataframe thead th {\n",
       "        text-align: right;\n",
       "    }\n",
       "</style>\n",
       "<table border=\"1\" class=\"dataframe\">\n",
       "  <thead>\n",
       "    <tr style=\"text-align: right;\">\n",
       "      <th></th>\n",
       "      <th>0</th>\n",
       "      <th>1</th>\n",
       "      <th>2</th>\n",
       "      <th>3</th>\n",
       "      <th>4</th>\n",
       "      <th>5</th>\n",
       "      <th>6</th>\n",
       "      <th>7</th>\n",
       "      <th>8</th>\n",
       "      <th>9</th>\n",
       "      <th>...</th>\n",
       "      <th>225</th>\n",
       "      <th>226</th>\n",
       "      <th>227</th>\n",
       "      <th>228</th>\n",
       "      <th>229</th>\n",
       "      <th>230</th>\n",
       "      <th>231</th>\n",
       "      <th>232</th>\n",
       "      <th>233</th>\n",
       "      <th>234</th>\n",
       "    </tr>\n",
       "  </thead>\n",
       "  <tbody>\n",
       "    <tr>\n",
       "      <th>Affluent Achievers</th>\n",
       "      <td>low</td>\n",
       "      <td>medium</td>\n",
       "      <td>medium</td>\n",
       "      <td>high</td>\n",
       "      <td>high</td>\n",
       "      <td>low</td>\n",
       "      <td>low</td>\n",
       "      <td>high</td>\n",
       "      <td>high</td>\n",
       "      <td>high</td>\n",
       "      <td>...</td>\n",
       "      <td>medium</td>\n",
       "      <td>medium</td>\n",
       "      <td>low</td>\n",
       "      <td>low</td>\n",
       "      <td>medium</td>\n",
       "      <td>low</td>\n",
       "      <td>medium</td>\n",
       "      <td>high</td>\n",
       "      <td>high</td>\n",
       "      <td>medium</td>\n",
       "    </tr>\n",
       "    <tr>\n",
       "      <th>Rising Prosperity</th>\n",
       "      <td>low</td>\n",
       "      <td>medium</td>\n",
       "      <td>high</td>\n",
       "      <td>high</td>\n",
       "      <td>medium</td>\n",
       "      <td>low</td>\n",
       "      <td>low</td>\n",
       "      <td>low</td>\n",
       "      <td>medium</td>\n",
       "      <td>low</td>\n",
       "      <td>...</td>\n",
       "      <td>medium</td>\n",
       "      <td>medium</td>\n",
       "      <td>medium</td>\n",
       "      <td>high</td>\n",
       "      <td>low</td>\n",
       "      <td>medium</td>\n",
       "      <td>medium</td>\n",
       "      <td>low</td>\n",
       "      <td>medium</td>\n",
       "      <td>low</td>\n",
       "    </tr>\n",
       "    <tr>\n",
       "      <th>Comfortable Communities</th>\n",
       "      <td>low</td>\n",
       "      <td>high</td>\n",
       "      <td>low</td>\n",
       "      <td>high</td>\n",
       "      <td>medium</td>\n",
       "      <td>medium</td>\n",
       "      <td>low</td>\n",
       "      <td>low</td>\n",
       "      <td>medium</td>\n",
       "      <td>medium</td>\n",
       "      <td>...</td>\n",
       "      <td>medium</td>\n",
       "      <td>medium</td>\n",
       "      <td>low</td>\n",
       "      <td>low</td>\n",
       "      <td>low</td>\n",
       "      <td>high</td>\n",
       "      <td>medium</td>\n",
       "      <td>medium</td>\n",
       "      <td>high</td>\n",
       "      <td>low</td>\n",
       "    </tr>\n",
       "    <tr>\n",
       "      <th>Financially Stretched</th>\n",
       "      <td>medium</td>\n",
       "      <td>medium</td>\n",
       "      <td>high</td>\n",
       "      <td>medium</td>\n",
       "      <td>high</td>\n",
       "      <td>medium</td>\n",
       "      <td>high</td>\n",
       "      <td>high</td>\n",
       "      <td>high</td>\n",
       "      <td>low</td>\n",
       "      <td>...</td>\n",
       "      <td>low</td>\n",
       "      <td>high</td>\n",
       "      <td>low</td>\n",
       "      <td>low</td>\n",
       "      <td>medium</td>\n",
       "      <td>medium</td>\n",
       "      <td>medium</td>\n",
       "      <td>medium</td>\n",
       "      <td>low</td>\n",
       "      <td>low</td>\n",
       "    </tr>\n",
       "    <tr>\n",
       "      <th>Urban Adversity</th>\n",
       "      <td>low</td>\n",
       "      <td>low</td>\n",
       "      <td>high</td>\n",
       "      <td>medium</td>\n",
       "      <td>high</td>\n",
       "      <td>high</td>\n",
       "      <td>high</td>\n",
       "      <td>high</td>\n",
       "      <td>medium</td>\n",
       "      <td>medium</td>\n",
       "      <td>...</td>\n",
       "      <td>medium</td>\n",
       "      <td>high</td>\n",
       "      <td>low</td>\n",
       "      <td>low</td>\n",
       "      <td>medium</td>\n",
       "      <td>medium</td>\n",
       "      <td>high</td>\n",
       "      <td>high</td>\n",
       "      <td>medium</td>\n",
       "      <td>low</td>\n",
       "    </tr>\n",
       "  </tbody>\n",
       "</table>\n",
       "<p>5 rows × 235 columns</p>\n",
       "</div>"
      ],
      "text/plain": [
       "                            0       1       2       3       4       5     6    \\\n",
       "Affluent Achievers          low  medium  medium    high    high     low   low   \n",
       "Rising Prosperity           low  medium    high    high  medium     low   low   \n",
       "Comfortable Communities     low    high     low    high  medium  medium   low   \n",
       "Financially Stretched    medium  medium    high  medium    high  medium  high   \n",
       "Urban Adversity             low     low    high  medium    high    high  high   \n",
       "\n",
       "                          7       8       9    ...     225     226     227  \\\n",
       "Affluent Achievers       high    high    high  ...  medium  medium     low   \n",
       "Rising Prosperity         low  medium     low  ...  medium  medium  medium   \n",
       "Comfortable Communities   low  medium  medium  ...  medium  medium     low   \n",
       "Financially Stretched    high    high     low  ...     low    high     low   \n",
       "Urban Adversity          high  medium  medium  ...  medium    high     low   \n",
       "\n",
       "                          228     229     230     231     232     233     234  \n",
       "Affluent Achievers        low  medium     low  medium    high    high  medium  \n",
       "Rising Prosperity        high     low  medium  medium     low  medium     low  \n",
       "Comfortable Communities   low     low    high  medium  medium    high     low  \n",
       "Financially Stretched     low  medium  medium  medium  medium     low     low  \n",
       "Urban Adversity           low  medium  medium    high    high  medium     low  \n",
       "\n",
       "[5 rows x 235 columns]"
      ]
     },
     "execution_count": 29,
     "metadata": {},
     "output_type": "execute_result"
    }
   ],
   "source": [
    "rating_levels"
   ]
  },
  {
   "cell_type": "markdown",
   "id": "7dbe9680",
   "metadata": {},
   "source": [
    "Each row is a customer type, and each column is a label. The value is how much this customer type likes the label."
   ]
  },
  {
   "cell_type": "markdown",
   "id": "56041699",
   "metadata": {},
   "source": [
    "genereate the likescale value of each customer type for each label. Then, we will assign a value to each label accroding to the 9 distribution patterns. Then, these values are multiplyed with the number of appearence of the label, where average value of the non-zero values are taken as the final rating of the movie by this customer."
   ]
  },
  {
   "cell_type": "code",
   "execution_count": 30,
   "id": "831893b3",
   "metadata": {},
   "outputs": [],
   "source": [
    "def generate_rating_for_vid(rough_ratings):\n",
    "    labels_rates = []\n",
    "    for n in range(rough_ratings.shape[1]):\n",
    "        rate = rough_ratings.iloc[:,n][0]\n",
    "        # print(rate)\n",
    "        if rate == 'high':\n",
    "            random.seed(10)\n",
    "            rating_prob = random.choice(probs_high)\n",
    "\n",
    "        elif rate == 'medium':\n",
    "            random.seed(10)\n",
    "            rating_prob = random.choice(probs_medium)\n",
    "            \n",
    "        elif rate == 'low':\n",
    "            random.seed(10)\n",
    "            rating_prob = random.choice(probs_low)\n",
    "            \n",
    "        label_rate = np.random.choice(range(1, 11),\n",
    "                                          size = 1,\n",
    "                                          p = rating_prob)[0]\n",
    "        labels_rates.append(label_rate)\n",
    "    return labels_rates"
   ]
  },
  {
   "cell_type": "code",
   "execution_count": 31,
   "id": "08d81b70",
   "metadata": {},
   "outputs": [],
   "source": [
    "all_customer_video_ratings = []\n",
    "# generate the rating for each video by each customer\n",
    "for n_customer in range(customer_data.shape[0]):\n",
    "    video_ratings = []\n",
    "    # get the rought ratings for each label\n",
    "    rough_ratings = rating_levels.loc[rating_levels.index == customer_data.iloc[n_customer,:][0],:]\n",
    "    # convert each rough rating to specific numeric values\n",
    "    label_rates = generate_rating_for_vid(rough_ratings)\n",
    "    \n",
    "    for n in range(df.shape[0]):\n",
    "        label_count = df.iloc[n,:][:-1]\n",
    "        rate = np.multiply(label_rates, label_count).sum() / label_count.sum()\n",
    "        rate = round(rate,2)\n",
    "        video_ratings.append(rate)\n",
    "    all_customer_video_ratings.append(video_ratings)"
   ]
  },
  {
   "cell_type": "code",
   "execution_count": 32,
   "id": "fff99ce8",
   "metadata": {},
   "outputs": [],
   "source": [
    "all_customer_video_ratings_flatten = np.array(all_customer_video_ratings).flatten()"
   ]
  },
  {
   "cell_type": "code",
   "execution_count": 33,
   "id": "63257491",
   "metadata": {},
   "outputs": [
    {
     "data": {
      "text/plain": [
       "26922"
      ]
     },
     "execution_count": 33,
     "metadata": {},
     "output_type": "execute_result"
    }
   ],
   "source": [
    "len(all_customer_video_ratings_flatten)"
   ]
  },
  {
   "cell_type": "code",
   "execution_count": 34,
   "id": "2c10556f",
   "metadata": {},
   "outputs": [],
   "source": [
    "video_columns = [f\"v{i+1}_rating\" for i in range(n_files)]\n",
    "customer_video_ratings = pd.DataFrame(all_customer_video_ratings,\n",
    "                                      columns=video_columns)"
   ]
  },
  {
   "cell_type": "code",
   "execution_count": 35,
   "id": "daeab352",
   "metadata": {},
   "outputs": [
    {
     "data": {
      "text/plain": [
       "1.75"
      ]
     },
     "execution_count": 35,
     "metadata": {},
     "output_type": "execute_result"
    }
   ],
   "source": [
    "all_customer_video_ratings_flatten.min()"
   ]
  },
  {
   "cell_type": "code",
   "execution_count": 36,
   "id": "ddd0ec1b",
   "metadata": {},
   "outputs": [
    {
     "data": {
      "text/plain": [
       "8.75"
      ]
     },
     "execution_count": 36,
     "metadata": {},
     "output_type": "execute_result"
    }
   ],
   "source": [
    "all_customer_video_ratings_flatten.max()"
   ]
  },
  {
   "cell_type": "markdown",
   "id": "e630a478",
   "metadata": {},
   "source": [
    "# Tidy Data"
   ]
  },
  {
   "cell_type": "markdown",
   "id": "847422d8",
   "metadata": {},
   "source": [
    "Create a dataframe where each row contains the video label information and the customer information, with the Y being the specific rating of the video from the specific customer."
   ]
  },
  {
   "cell_type": "code",
   "execution_count": 37,
   "id": "5a09deb8",
   "metadata": {},
   "outputs": [],
   "source": [
    "# Create a list to store the copies of the DataFrame\n",
    "customer_data_list = [customer_data.copy() for _ in range(n_files)]\n",
    "\n",
    "# Concatenate the DataFrame copies by row\n",
    "customer_data_list_combined = pd.concat(customer_data_list, ignore_index=True)"
   ]
  },
  {
   "cell_type": "code",
   "execution_count": 38,
   "id": "7993574b",
   "metadata": {},
   "outputs": [
    {
     "data": {
      "text/plain": [
       "(26922, 7)"
      ]
     },
     "execution_count": 38,
     "metadata": {},
     "output_type": "execute_result"
    }
   ],
   "source": [
    "customer_data_list_combined.shape"
   ]
  },
  {
   "cell_type": "code",
   "execution_count": 39,
   "id": "f991fd29",
   "metadata": {},
   "outputs": [],
   "source": [
    "df['video_id'] = df.index"
   ]
  },
  {
   "cell_type": "code",
   "execution_count": 40,
   "id": "2aac4d48",
   "metadata": {},
   "outputs": [],
   "source": [
    "# Create a list to store the copies of the DataFrame\n",
    "df_list = [df.copy() for _ in range(customer_data.shape[0])]\n",
    "\n",
    "# Concatenate the DataFrame copies by row\n",
    "df_list_combined = pd.concat(df_list, ignore_index=True)"
   ]
  },
  {
   "cell_type": "code",
   "execution_count": 41,
   "id": "3c1b925c",
   "metadata": {},
   "outputs": [
    {
     "data": {
      "text/plain": [
       "(26922, 237)"
      ]
     },
     "execution_count": 41,
     "metadata": {},
     "output_type": "execute_result"
    }
   ],
   "source": [
    "df_list_combined.shape"
   ]
  },
  {
   "cell_type": "code",
   "execution_count": 42,
   "id": "f2406f61",
   "metadata": {},
   "outputs": [],
   "source": [
    "df_list_combined = df_list_combined.sort_values(by='video_id').reset_index(drop=True)"
   ]
  },
  {
   "cell_type": "code",
   "execution_count": 43,
   "id": "2ee9c50a",
   "metadata": {},
   "outputs": [],
   "source": [
    "full_df = pd.concat([customer_data_list_combined, df_list_combined], axis=1)"
   ]
  },
  {
   "cell_type": "code",
   "execution_count": 44,
   "id": "4d791458",
   "metadata": {},
   "outputs": [],
   "source": [
    "# Add the ratings\n",
    "full_df['rating'] = all_customer_video_ratings_flatten"
   ]
  },
  {
   "cell_type": "code",
   "execution_count": 45,
   "id": "6098908e",
   "metadata": {},
   "outputs": [
    {
     "data": {
      "text/plain": [
       "(26922, 245)"
      ]
     },
     "execution_count": 45,
     "metadata": {},
     "output_type": "execute_result"
    }
   ],
   "source": [
    "full_df.shape"
   ]
  },
  {
   "cell_type": "code",
   "execution_count": 46,
   "id": "df5da76b",
   "metadata": {},
   "outputs": [
    {
     "data": {
      "text/html": [
       "<div>\n",
       "<style scoped>\n",
       "    .dataframe tbody tr th:only-of-type {\n",
       "        vertical-align: middle;\n",
       "    }\n",
       "\n",
       "    .dataframe tbody tr th {\n",
       "        vertical-align: top;\n",
       "    }\n",
       "\n",
       "    .dataframe thead th {\n",
       "        text-align: right;\n",
       "    }\n",
       "</style>\n",
       "<table border=\"1\" class=\"dataframe\">\n",
       "  <thead>\n",
       "    <tr style=\"text-align: right;\">\n",
       "      <th></th>\n",
       "      <th>Customer Type</th>\n",
       "      <th>Age</th>\n",
       "      <th>House Type</th>\n",
       "      <th>Children at Home</th>\n",
       "      <th>House Tenure</th>\n",
       "      <th>Income</th>\n",
       "      <th>Gender</th>\n",
       "      <th>Accessories</th>\n",
       "      <th>Adult</th>\n",
       "      <th>Advertisement</th>\n",
       "      <th>...</th>\n",
       "      <th>Water</th>\n",
       "      <th>Weapon</th>\n",
       "      <th>Wedding</th>\n",
       "      <th>Wine</th>\n",
       "      <th>Wine Glass</th>\n",
       "      <th>Woman</th>\n",
       "      <th>Wood</th>\n",
       "      <th>content_lengths</th>\n",
       "      <th>video_id</th>\n",
       "      <th>rating</th>\n",
       "    </tr>\n",
       "  </thead>\n",
       "  <tbody>\n",
       "    <tr>\n",
       "      <th>0</th>\n",
       "      <td>Affluent Achievers</td>\n",
       "      <td>79</td>\n",
       "      <td>Detached house</td>\n",
       "      <td>0</td>\n",
       "      <td>Owned outright</td>\n",
       "      <td>40</td>\n",
       "      <td>Male</td>\n",
       "      <td>0</td>\n",
       "      <td>21</td>\n",
       "      <td>0</td>\n",
       "      <td>...</td>\n",
       "      <td>0</td>\n",
       "      <td>0</td>\n",
       "      <td>21</td>\n",
       "      <td>0</td>\n",
       "      <td>0</td>\n",
       "      <td>21</td>\n",
       "      <td>0</td>\n",
       "      <td>53280</td>\n",
       "      <td>0</td>\n",
       "      <td>6.36</td>\n",
       "    </tr>\n",
       "    <tr>\n",
       "      <th>1</th>\n",
       "      <td>Affluent Achievers</td>\n",
       "      <td>57</td>\n",
       "      <td>Detached house</td>\n",
       "      <td>0</td>\n",
       "      <td>Owned outright</td>\n",
       "      <td>39</td>\n",
       "      <td>Male</td>\n",
       "      <td>0</td>\n",
       "      <td>21</td>\n",
       "      <td>0</td>\n",
       "      <td>...</td>\n",
       "      <td>0</td>\n",
       "      <td>0</td>\n",
       "      <td>21</td>\n",
       "      <td>0</td>\n",
       "      <td>0</td>\n",
       "      <td>21</td>\n",
       "      <td>0</td>\n",
       "      <td>53280</td>\n",
       "      <td>0</td>\n",
       "      <td>6.21</td>\n",
       "    </tr>\n",
       "  </tbody>\n",
       "</table>\n",
       "<p>2 rows × 245 columns</p>\n",
       "</div>"
      ],
      "text/plain": [
       "        Customer Type  Age      House Type  Children at Home    House Tenure  \\\n",
       "0  Affluent Achievers   79  Detached house                 0  Owned outright   \n",
       "1  Affluent Achievers   57  Detached house                 0  Owned outright   \n",
       "\n",
       "   Income Gender  Accessories  Adult  Advertisement  ...  Water  Weapon  \\\n",
       "0      40   Male            0     21              0  ...      0       0   \n",
       "1      39   Male            0     21              0  ...      0       0   \n",
       "\n",
       "   Wedding  Wine  Wine Glass  Woman  Wood  content_lengths  video_id  rating  \n",
       "0       21     0           0     21     0            53280         0    6.36  \n",
       "1       21     0           0     21     0            53280         0    6.21  \n",
       "\n",
       "[2 rows x 245 columns]"
      ]
     },
     "execution_count": 46,
     "metadata": {},
     "output_type": "execute_result"
    }
   ],
   "source": [
    "full_df.head(2)"
   ]
  },
  {
   "cell_type": "code",
   "execution_count": 47,
   "id": "ad24b48d",
   "metadata": {},
   "outputs": [
    {
     "data": {
      "text/html": [
       "<div>\n",
       "<style scoped>\n",
       "    .dataframe tbody tr th:only-of-type {\n",
       "        vertical-align: middle;\n",
       "    }\n",
       "\n",
       "    .dataframe tbody tr th {\n",
       "        vertical-align: top;\n",
       "    }\n",
       "\n",
       "    .dataframe thead th {\n",
       "        text-align: right;\n",
       "    }\n",
       "</style>\n",
       "<table border=\"1\" class=\"dataframe\">\n",
       "  <thead>\n",
       "    <tr style=\"text-align: right;\">\n",
       "      <th></th>\n",
       "      <th>rating</th>\n",
       "    </tr>\n",
       "    <tr>\n",
       "      <th>Customer Type</th>\n",
       "      <th></th>\n",
       "    </tr>\n",
       "  </thead>\n",
       "  <tbody>\n",
       "    <tr>\n",
       "      <th>Affluent Achievers</th>\n",
       "      <td>5.501029</td>\n",
       "    </tr>\n",
       "    <tr>\n",
       "      <th>Comfortable Communities</th>\n",
       "      <td>5.503894</td>\n",
       "    </tr>\n",
       "    <tr>\n",
       "      <th>Financially Stretched</th>\n",
       "      <td>5.462267</td>\n",
       "    </tr>\n",
       "    <tr>\n",
       "      <th>Rising Prosperity</th>\n",
       "      <td>5.486476</td>\n",
       "    </tr>\n",
       "    <tr>\n",
       "      <th>Urban Adversity</th>\n",
       "      <td>5.462978</td>\n",
       "    </tr>\n",
       "  </tbody>\n",
       "</table>\n",
       "</div>"
      ],
      "text/plain": [
       "                           rating\n",
       "Customer Type                    \n",
       "Affluent Achievers       5.501029\n",
       "Comfortable Communities  5.503894\n",
       "Financially Stretched    5.462267\n",
       "Rising Prosperity        5.486476\n",
       "Urban Adversity          5.462978"
      ]
     },
     "execution_count": 47,
     "metadata": {},
     "output_type": "execute_result"
    }
   ],
   "source": [
    "full_df[['Customer Type','rating']].groupby(['Customer Type']).mean()"
   ]
  },
  {
   "cell_type": "code",
   "execution_count": 48,
   "id": "c0341852",
   "metadata": {},
   "outputs": [],
   "source": [
    "ratings0 = full_df.loc[full_df['video_id'] == 0, :][['Customer Type','rating']].groupby(['Customer Type']).mean()\n",
    "ratings1 = full_df.loc[full_df['video_id'] == 1, :][['Customer Type','rating']].groupby(['Customer Type']).mean()\n",
    "ratings2 = full_df.loc[full_df['video_id'] == 2, :][['Customer Type','rating']].groupby(['Customer Type']).mean()\n",
    "ratings3 = full_df.loc[full_df['video_id'] == 3, :][['Customer Type','rating']].groupby(['Customer Type']).mean()"
   ]
  },
  {
   "cell_type": "code",
   "execution_count": 49,
   "id": "b1160525",
   "metadata": {},
   "outputs": [
    {
     "data": {
      "text/plain": [
       "F_onewayResult(statistic=array([0.24502553]), pvalue=array([0.86363925]))"
      ]
     },
     "execution_count": 49,
     "metadata": {},
     "output_type": "execute_result"
    }
   ],
   "source": [
    "from scipy.stats import f_oneway\n",
    "\n",
    "# Conduct the one-way ANOVA\n",
    "f_oneway(ratings0, ratings1, ratings2, ratings3)"
   ]
  },
  {
   "cell_type": "code",
   "execution_count": 50,
   "id": "6c10adc1",
   "metadata": {},
   "outputs": [],
   "source": [
    "# save the data\n",
    "full_df.to_csv('full_customer_video_ratings.csv', index=False)"
   ]
  }
 ],
 "metadata": {
  "kernelspec": {
   "display_name": "Python 3 (ipykernel)",
   "language": "python",
   "name": "python3"
  },
  "language_info": {
   "codemirror_mode": {
    "name": "ipython",
    "version": 3
   },
   "file_extension": ".py",
   "mimetype": "text/x-python",
   "name": "python",
   "nbconvert_exporter": "python",
   "pygments_lexer": "ipython3",
   "version": "3.9.12"
  },
  "toc": {
   "base_numbering": 1,
   "nav_menu": {},
   "number_sections": true,
   "sideBar": true,
   "skip_h1_title": false,
   "title_cell": "Table of Contents",
   "title_sidebar": "Contents",
   "toc_cell": true,
   "toc_position": {
    "height": "calc(100% - 180px)",
    "left": "10px",
    "top": "150px",
    "width": "245.5px"
   },
   "toc_section_display": true,
   "toc_window_display": true
  },
  "varInspector": {
   "cols": {
    "lenName": 16,
    "lenType": 16,
    "lenVar": 40
   },
   "kernels_config": {
    "python": {
     "delete_cmd_postfix": "",
     "delete_cmd_prefix": "del ",
     "library": "var_list.py",
     "varRefreshCmd": "print(var_dic_list())"
    },
    "r": {
     "delete_cmd_postfix": ") ",
     "delete_cmd_prefix": "rm(",
     "library": "var_list.r",
     "varRefreshCmd": "cat(var_dic_list()) "
    }
   },
   "types_to_exclude": [
    "module",
    "function",
    "builtin_function_or_method",
    "instance",
    "_Feature"
   ],
   "window_display": false
  }
 },
 "nbformat": 4,
 "nbformat_minor": 5
}
