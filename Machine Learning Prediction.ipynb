{
 "cells": [
  {
   "cell_type": "markdown",
   "id": "3dbc96c4",
   "metadata": {
    "toc": true
   },
   "source": [
    "<h1>Table of Contents<span class=\"tocSkip\"></span></h1>\n",
    "<div class=\"toc\"><ul class=\"toc-item\"><li><span><a href=\"#Import-Data\" data-toc-modified-id=\"Import-Data-1\"><span class=\"toc-item-num\">1&nbsp;&nbsp;</span>Import Data</a></span></li><li><span><a href=\"#Explore-Data\" data-toc-modified-id=\"Explore-Data-2\"><span class=\"toc-item-num\">2&nbsp;&nbsp;</span>Explore Data</a></span></li><li><span><a href=\"#Tidy-Data\" data-toc-modified-id=\"Tidy-Data-3\"><span class=\"toc-item-num\">3&nbsp;&nbsp;</span>Tidy Data</a></span><ul class=\"toc-item\"><li><span><a href=\"#Dummy-Variables\" data-toc-modified-id=\"Dummy-Variables-3.1\"><span class=\"toc-item-num\">3.1&nbsp;&nbsp;</span>Dummy Variables</a></span></li><li><span><a href=\"#Scaling-and-Spliting-Training-and-Testing-Dataset\" data-toc-modified-id=\"Scaling-and-Spliting-Training-and-Testing-Dataset-3.2\"><span class=\"toc-item-num\">3.2&nbsp;&nbsp;</span>Scaling and Spliting Training and Testing Dataset</a></span></li></ul></li><li><span><a href=\"#Explore-Different-Models\" data-toc-modified-id=\"Explore-Different-Models-4\"><span class=\"toc-item-num\">4&nbsp;&nbsp;</span>Explore Different Models</a></span><ul class=\"toc-item\"><li><span><a href=\"#Functions-for-Automation-\" data-toc-modified-id=\"Functions-for-Automation--4.1\"><span class=\"toc-item-num\">4.1&nbsp;&nbsp;</span>Functions for Automation <a class=\"anchor\" id=\"41\" rel=\"nofollow\"></a></a></span></li><li><span><a href=\"#Baseline:-Naive-Model\" data-toc-modified-id=\"Baseline:-Naive-Model-4.2\"><span class=\"toc-item-num\">4.2&nbsp;&nbsp;</span>Baseline: Naive Model</a></span></li><li><span><a href=\"#Linear-Regression-Model\" data-toc-modified-id=\"Linear-Regression-Model-4.3\"><span class=\"toc-item-num\">4.3&nbsp;&nbsp;</span>Linear Regression Model</a></span></li><li><span><a href=\"#Super-Vector-Machine\" data-toc-modified-id=\"Super-Vector-Machine-4.4\"><span class=\"toc-item-num\">4.4&nbsp;&nbsp;</span>Super Vector Machine</a></span></li><li><span><a href=\"#Random-Forest\" data-toc-modified-id=\"Random-Forest-4.5\"><span class=\"toc-item-num\">4.5&nbsp;&nbsp;</span>Random Forest</a></span></li><li><span><a href=\"#Artificial-Neural-Networks\" data-toc-modified-id=\"Artificial-Neural-Networks-4.6\"><span class=\"toc-item-num\">4.6&nbsp;&nbsp;</span>Artificial Neural Networks</a></span></li><li><span><a href=\"#Simple-Recurrent-Neuron-Networks\" data-toc-modified-id=\"Simple-Recurrent-Neuron-Networks-4.7\"><span class=\"toc-item-num\">4.7&nbsp;&nbsp;</span>Simple Recurrent Neuron Networks</a></span></li><li><span><a href=\"#Comparison-and-Model-Selection\" data-toc-modified-id=\"Comparison-and-Model-Selection-4.8\"><span class=\"toc-item-num\">4.8&nbsp;&nbsp;</span>Comparison and Model Selection</a></span></li><li><span><a href=\"#Intepretation\" data-toc-modified-id=\"Intepretation-4.9\"><span class=\"toc-item-num\">4.9&nbsp;&nbsp;</span>Intepretation</a></span></li><li><span><a href=\"#For-other-customer-group\" data-toc-modified-id=\"For-other-customer-group-4.10\"><span class=\"toc-item-num\">4.10&nbsp;&nbsp;</span>For other customer group</a></span></li><li><span><a href=\"#Dummy-Variables\" data-toc-modified-id=\"Dummy-Variables-4.11\"><span class=\"toc-item-num\">4.11&nbsp;&nbsp;</span>Dummy Variables</a></span></li><li><span><a href=\"#Scaling-and-Spliting-Training-and-Testing-Dataset\" data-toc-modified-id=\"Scaling-and-Spliting-Training-and-Testing-Dataset-4.12\"><span class=\"toc-item-num\">4.12&nbsp;&nbsp;</span>Scaling and Spliting Training and Testing Dataset</a></span></li></ul></li></ul></div>"
   ]
  },
  {
   "cell_type": "code",
   "execution_count": 1,
   "id": "e2e52b34",
   "metadata": {},
   "outputs": [],
   "source": [
    "import warnings\n",
    "warnings.filterwarnings(\"ignore\")"
   ]
  },
  {
   "cell_type": "code",
   "execution_count": 2,
   "id": "443a3732",
   "metadata": {},
   "outputs": [],
   "source": [
    "import pandas as pd\n",
    "import numpy as np\n",
    "\n",
    "# for visualization\n",
    "import seaborn as sn\n",
    "import matplotlib.pyplot as plt\n",
    "import seaborn as sns\n",
    "\n",
    "# for model training\n",
    "import statsmodels.api as sm\n",
    "from sklearn.model_selection import train_test_split\n",
    "from sklearn.linear_model import LinearRegression\n",
    "from keras.models import Sequential\n",
    "from keras.layers import Dense\n",
    "import tensorflow as tf\n",
    "from tensorflow import keras\n",
    "from tensorflow.keras import layers\n",
    "from sklearn.model_selection import cross_val_score\n",
    "from sklearn.ensemble import RandomForestRegressor\n",
    "from sklearn.svm import SVR\n",
    "from keras import Input # for instantiating a keras tensor\n",
    "from keras.layers import SimpleRNN\n",
    "\n",
    "# small tools\n",
    "from sklearn.preprocessing import StandardScaler\n",
    "from sklearn.model_selection import cross_val_score\n",
    "from sklearn.model_selection import RandomizedSearchCV\n",
    "import statistics\n",
    "from statistics import stdev as sd\n",
    "from statistics import mean"
   ]
  },
  {
   "cell_type": "markdown",
   "id": "39565292",
   "metadata": {},
   "source": [
    "# Import Data"
   ]
  },
  {
   "cell_type": "code",
   "execution_count": 3,
   "id": "7de16fbd",
   "metadata": {},
   "outputs": [],
   "source": [
    "df = pd.read_csv('full_customer_video_ratings.csv')"
   ]
  },
  {
   "cell_type": "code",
   "execution_count": 4,
   "id": "62fd2573",
   "metadata": {},
   "outputs": [
    {
     "data": {
      "text/plain": [
       "(26922, 245)"
      ]
     },
     "execution_count": 4,
     "metadata": {},
     "output_type": "execute_result"
    }
   ],
   "source": [
    "df.shape"
   ]
  },
  {
   "cell_type": "code",
   "execution_count": 5,
   "id": "4a6773a6",
   "metadata": {},
   "outputs": [
    {
     "data": {
      "text/html": [
       "<div>\n",
       "<style scoped>\n",
       "    .dataframe tbody tr th:only-of-type {\n",
       "        vertical-align: middle;\n",
       "    }\n",
       "\n",
       "    .dataframe tbody tr th {\n",
       "        vertical-align: top;\n",
       "    }\n",
       "\n",
       "    .dataframe thead th {\n",
       "        text-align: right;\n",
       "    }\n",
       "</style>\n",
       "<table border=\"1\" class=\"dataframe\">\n",
       "  <thead>\n",
       "    <tr style=\"text-align: right;\">\n",
       "      <th></th>\n",
       "      <th>Customer Type</th>\n",
       "      <th>Age</th>\n",
       "      <th>House Type</th>\n",
       "      <th>Children at Home</th>\n",
       "      <th>House Tenure</th>\n",
       "      <th>Income</th>\n",
       "      <th>Gender</th>\n",
       "      <th>Accessories</th>\n",
       "      <th>Adult</th>\n",
       "      <th>Advertisement</th>\n",
       "      <th>...</th>\n",
       "      <th>Water</th>\n",
       "      <th>Weapon</th>\n",
       "      <th>Wedding</th>\n",
       "      <th>Wine</th>\n",
       "      <th>Wine Glass</th>\n",
       "      <th>Woman</th>\n",
       "      <th>Wood</th>\n",
       "      <th>content_lengths</th>\n",
       "      <th>video_id</th>\n",
       "      <th>rating</th>\n",
       "    </tr>\n",
       "  </thead>\n",
       "  <tbody>\n",
       "    <tr>\n",
       "      <th>0</th>\n",
       "      <td>Affluent Achievers</td>\n",
       "      <td>79</td>\n",
       "      <td>Detached house</td>\n",
       "      <td>0</td>\n",
       "      <td>Owned outright</td>\n",
       "      <td>40</td>\n",
       "      <td>Male</td>\n",
       "      <td>0</td>\n",
       "      <td>21</td>\n",
       "      <td>0</td>\n",
       "      <td>...</td>\n",
       "      <td>0</td>\n",
       "      <td>0</td>\n",
       "      <td>21</td>\n",
       "      <td>0</td>\n",
       "      <td>0</td>\n",
       "      <td>21</td>\n",
       "      <td>0</td>\n",
       "      <td>53280</td>\n",
       "      <td>0</td>\n",
       "      <td>6.36</td>\n",
       "    </tr>\n",
       "    <tr>\n",
       "      <th>1</th>\n",
       "      <td>Affluent Achievers</td>\n",
       "      <td>57</td>\n",
       "      <td>Detached house</td>\n",
       "      <td>0</td>\n",
       "      <td>Owned outright</td>\n",
       "      <td>39</td>\n",
       "      <td>Male</td>\n",
       "      <td>0</td>\n",
       "      <td>21</td>\n",
       "      <td>0</td>\n",
       "      <td>...</td>\n",
       "      <td>0</td>\n",
       "      <td>0</td>\n",
       "      <td>21</td>\n",
       "      <td>0</td>\n",
       "      <td>0</td>\n",
       "      <td>21</td>\n",
       "      <td>0</td>\n",
       "      <td>53280</td>\n",
       "      <td>0</td>\n",
       "      <td>6.21</td>\n",
       "    </tr>\n",
       "  </tbody>\n",
       "</table>\n",
       "<p>2 rows × 245 columns</p>\n",
       "</div>"
      ],
      "text/plain": [
       "        Customer Type  Age      House Type  Children at Home    House Tenure  \\\n",
       "0  Affluent Achievers   79  Detached house                 0  Owned outright   \n",
       "1  Affluent Achievers   57  Detached house                 0  Owned outright   \n",
       "\n",
       "   Income Gender  Accessories  Adult  Advertisement  ...  Water  Weapon  \\\n",
       "0      40   Male            0     21              0  ...      0       0   \n",
       "1      39   Male            0     21              0  ...      0       0   \n",
       "\n",
       "   Wedding  Wine  Wine Glass  Woman  Wood  content_lengths  video_id  rating  \n",
       "0       21     0           0     21     0            53280         0    6.36  \n",
       "1       21     0           0     21     0            53280         0    6.21  \n",
       "\n",
       "[2 rows x 245 columns]"
      ]
     },
     "execution_count": 5,
     "metadata": {},
     "output_type": "execute_result"
    }
   ],
   "source": [
    "df.head(2)"
   ]
  },
  {
   "cell_type": "markdown",
   "id": "b98fcc4b",
   "metadata": {},
   "source": [
    "# Explore Data"
   ]
  },
  {
   "cell_type": "markdown",
   "id": "95306705",
   "metadata": {},
   "source": [
    "# Tidy Data"
   ]
  },
  {
   "cell_type": "code",
   "execution_count": 6,
   "id": "43997c77",
   "metadata": {},
   "outputs": [],
   "source": [
    "#\n",
    "df.drop(['video_id'], axis=1, inplace=True)"
   ]
  },
  {
   "cell_type": "code",
   "execution_count": 7,
   "id": "228b356f",
   "metadata": {},
   "outputs": [],
   "source": [
    "customer_types = df['Customer Type'].unique()"
   ]
  },
  {
   "cell_type": "code",
   "execution_count": 8,
   "id": "07bc69a1",
   "metadata": {},
   "outputs": [
    {
     "data": {
      "text/plain": [
       "array(['Affluent Achievers', 'Rising Prosperity',\n",
       "       'Comfortable Communities', 'Financially Stretched',\n",
       "       'Urban Adversity'], dtype=object)"
      ]
     },
     "execution_count": 8,
     "metadata": {},
     "output_type": "execute_result"
    }
   ],
   "source": [
    "customer_types"
   ]
  },
  {
   "cell_type": "code",
   "execution_count": 9,
   "id": "f3ed453d",
   "metadata": {},
   "outputs": [],
   "source": [
    "ct1 = df.loc[df['Customer Type'] == customer_types[0],:]\n",
    "ct1.drop(['Customer Type'], axis=1, inplace=True)"
   ]
  },
  {
   "cell_type": "markdown",
   "id": "e98e5739",
   "metadata": {},
   "source": [
    "## Dummy Variables"
   ]
  },
  {
   "cell_type": "code",
   "execution_count": 10,
   "id": "40bb3437",
   "metadata": {},
   "outputs": [],
   "source": [
    "categorical_varaibles = ct1.dtypes[ct1.dtypes == 'object'].index"
   ]
  },
  {
   "cell_type": "code",
   "execution_count": 11,
   "id": "9cbfdabe",
   "metadata": {},
   "outputs": [],
   "source": [
    "ct1 = pd.get_dummies(ct1,\n",
    "                    columns = categorical_varaibles,\n",
    "                    drop_first=True)"
   ]
  },
  {
   "cell_type": "markdown",
   "id": "312bb004",
   "metadata": {},
   "source": [
    "## Scaling and Spliting Training and Testing Dataset"
   ]
  },
  {
   "cell_type": "code",
   "execution_count": 12,
   "id": "6f3546c0",
   "metadata": {},
   "outputs": [],
   "source": [
    "scale= StandardScaler()"
   ]
  },
  {
   "cell_type": "code",
   "execution_count": 13,
   "id": "fd2e0633",
   "metadata": {},
   "outputs": [],
   "source": [
    "scaled_ct1 = pd.DataFrame(scale.fit_transform(ct1), index=ct1.index, columns=ct1.columns)"
   ]
  },
  {
   "cell_type": "code",
   "execution_count": 14,
   "id": "e0e250cb",
   "metadata": {},
   "outputs": [],
   "source": [
    "x_train, x_test, y_train, y_test = train_test_split(scaled_ct1.drop(columns=['rating']), scaled_ct1['rating'],\n",
    "                                                   random_state=2222)"
   ]
  },
  {
   "cell_type": "code",
   "execution_count": 15,
   "id": "c53f90a0",
   "metadata": {},
   "outputs": [
    {
     "data": {
      "text/plain": [
       "(4599, 240)"
      ]
     },
     "execution_count": 15,
     "metadata": {},
     "output_type": "execute_result"
    }
   ],
   "source": [
    "x_train.shape"
   ]
  },
  {
   "cell_type": "code",
   "execution_count": 16,
   "id": "ab120fc4",
   "metadata": {},
   "outputs": [
    {
     "data": {
      "text/plain": [
       "(1533, 240)"
      ]
     },
     "execution_count": 16,
     "metadata": {},
     "output_type": "execute_result"
    }
   ],
   "source": [
    "x_test.shape"
   ]
  },
  {
   "cell_type": "markdown",
   "id": "73482f75",
   "metadata": {},
   "source": [
    "# Explore Different Models"
   ]
  },
  {
   "cell_type": "markdown",
   "id": "6771bc3f",
   "metadata": {},
   "source": [
    "## Functions for Automation <a class='anchor' id='41'></a>"
   ]
  },
  {
   "cell_type": "code",
   "execution_count": 17,
   "id": "4499340c",
   "metadata": {},
   "outputs": [],
   "source": [
    "def rmse(pred, actual):\n",
    "    return (sum((pred - actual)**2)/len(actual))**0.5"
   ]
  },
  {
   "cell_type": "code",
   "execution_count": 18,
   "id": "93866029",
   "metadata": {},
   "outputs": [],
   "source": [
    "def display_scores(scores):\n",
    "    print(\"Scores:\", scores)\n",
    "    print(\"Mean:\", scores.mean())\n",
    "    print(\"Standard deviation:\", scores.std())"
   ]
  },
  {
   "cell_type": "markdown",
   "id": "d64f0079",
   "metadata": {},
   "source": [
    "## Baseline: Naive Model"
   ]
  },
  {
   "cell_type": "code",
   "execution_count": 19,
   "id": "d17b2f9e",
   "metadata": {},
   "outputs": [],
   "source": [
    "y_pred_train_naive = y_train.mean()"
   ]
  },
  {
   "cell_type": "code",
   "execution_count": 20,
   "id": "2b345009",
   "metadata": {},
   "outputs": [
    {
     "data": {
      "text/plain": [
       "1.0007345782533932"
      ]
     },
     "execution_count": 20,
     "metadata": {},
     "output_type": "execute_result"
    }
   ],
   "source": [
    "train_rmse_naive = rmse(y_pred_train_naive, y_train)\n",
    "train_rmse_naive"
   ]
  },
  {
   "cell_type": "code",
   "execution_count": 21,
   "id": "71fec426",
   "metadata": {},
   "outputs": [
    {
     "data": {
      "text/plain": [
       "0.9978539766269112"
      ]
     },
     "execution_count": 21,
     "metadata": {},
     "output_type": "execute_result"
    }
   ],
   "source": [
    "test_rmse_naive = rmse(y_pred_train_naive, y_test)\n",
    "test_rmse_naive"
   ]
  },
  {
   "cell_type": "markdown",
   "id": "396a71b7",
   "metadata": {},
   "source": [
    "## Linear Regression Model"
   ]
  },
  {
   "cell_type": "code",
   "execution_count": 22,
   "id": "a3258843",
   "metadata": {},
   "outputs": [],
   "source": [
    "mod = sm.OLS(y_train,x_train)\n",
    "fii = mod.fit()\n",
    "p_values = fii.summary2().tables[1]['P>|t|']"
   ]
  },
  {
   "cell_type": "code",
   "execution_count": 23,
   "id": "d169ad5c",
   "metadata": {},
   "outputs": [
    {
     "data": {
      "text/plain": [
       "0.9282150717718488"
      ]
     },
     "execution_count": 23,
     "metadata": {},
     "output_type": "execute_result"
    }
   ],
   "source": [
    "y_pred_train_lm = fii.predict(x_train)\n",
    "train_rmse_lm = rmse(y_pred_train_lm, y_train)\n",
    "train_rmse_lm"
   ]
  },
  {
   "cell_type": "code",
   "execution_count": 24,
   "id": "98fa917b",
   "metadata": {},
   "outputs": [
    {
     "data": {
      "text/plain": [
       "0.930761637277972"
      ]
     },
     "execution_count": 24,
     "metadata": {},
     "output_type": "execute_result"
    }
   ],
   "source": [
    "y_pred_test_lm = fii.predict(x_test)\n",
    "test_rmse_lm = rmse(y_pred_test_lm, y_test)\n",
    "test_rmse_lm"
   ]
  },
  {
   "cell_type": "markdown",
   "id": "13fc2a91",
   "metadata": {},
   "source": [
    "## Super Vector Machine"
   ]
  },
  {
   "cell_type": "code",
   "execution_count": 25,
   "id": "120c4d97",
   "metadata": {},
   "outputs": [],
   "source": [
    "regressor = SVR(kernel = 'rbf')\n",
    "regressor.fit(x_train, y_train);"
   ]
  },
  {
   "cell_type": "code",
   "execution_count": 26,
   "id": "9c9fa0c6",
   "metadata": {},
   "outputs": [
    {
     "data": {
      "text/plain": [
       "0.9291694169941624"
      ]
     },
     "execution_count": 26,
     "metadata": {},
     "output_type": "execute_result"
    }
   ],
   "source": [
    "y_pred_train_svm = regressor.predict(x_train)\n",
    "train_rmse_svm = rmse(y_pred_train_svm, y_train)\n",
    "train_rmse_svm"
   ]
  },
  {
   "cell_type": "code",
   "execution_count": 27,
   "id": "b7aa3aa6",
   "metadata": {},
   "outputs": [
    {
     "data": {
      "text/plain": [
       "0.9361804762585965"
      ]
     },
     "execution_count": 27,
     "metadata": {},
     "output_type": "execute_result"
    }
   ],
   "source": [
    "y_pred_test_svm = regressor.predict(x_test)\n",
    "test_rmse_svm =  rmse(y_pred_test_svm, y_test)\n",
    "test_rmse_svm"
   ]
  },
  {
   "cell_type": "markdown",
   "id": "814b8bb2",
   "metadata": {},
   "source": [
    "## Random Forest"
   ]
  },
  {
   "cell_type": "code",
   "execution_count": 28,
   "id": "e6916d01",
   "metadata": {},
   "outputs": [
    {
     "data": {
      "text/html": [
       "<style>#sk-container-id-1 {color: black;}#sk-container-id-1 pre{padding: 0;}#sk-container-id-1 div.sk-toggleable {background-color: white;}#sk-container-id-1 label.sk-toggleable__label {cursor: pointer;display: block;width: 100%;margin-bottom: 0;padding: 0.3em;box-sizing: border-box;text-align: center;}#sk-container-id-1 label.sk-toggleable__label-arrow:before {content: \"▸\";float: left;margin-right: 0.25em;color: #696969;}#sk-container-id-1 label.sk-toggleable__label-arrow:hover:before {color: black;}#sk-container-id-1 div.sk-estimator:hover label.sk-toggleable__label-arrow:before {color: black;}#sk-container-id-1 div.sk-toggleable__content {max-height: 0;max-width: 0;overflow: hidden;text-align: left;background-color: #f0f8ff;}#sk-container-id-1 div.sk-toggleable__content pre {margin: 0.2em;color: black;border-radius: 0.25em;background-color: #f0f8ff;}#sk-container-id-1 input.sk-toggleable__control:checked~div.sk-toggleable__content {max-height: 200px;max-width: 100%;overflow: auto;}#sk-container-id-1 input.sk-toggleable__control:checked~label.sk-toggleable__label-arrow:before {content: \"▾\";}#sk-container-id-1 div.sk-estimator input.sk-toggleable__control:checked~label.sk-toggleable__label {background-color: #d4ebff;}#sk-container-id-1 div.sk-label input.sk-toggleable__control:checked~label.sk-toggleable__label {background-color: #d4ebff;}#sk-container-id-1 input.sk-hidden--visually {border: 0;clip: rect(1px 1px 1px 1px);clip: rect(1px, 1px, 1px, 1px);height: 1px;margin: -1px;overflow: hidden;padding: 0;position: absolute;width: 1px;}#sk-container-id-1 div.sk-estimator {font-family: monospace;background-color: #f0f8ff;border: 1px dotted black;border-radius: 0.25em;box-sizing: border-box;margin-bottom: 0.5em;}#sk-container-id-1 div.sk-estimator:hover {background-color: #d4ebff;}#sk-container-id-1 div.sk-parallel-item::after {content: \"\";width: 100%;border-bottom: 1px solid gray;flex-grow: 1;}#sk-container-id-1 div.sk-label:hover label.sk-toggleable__label {background-color: #d4ebff;}#sk-container-id-1 div.sk-serial::before {content: \"\";position: absolute;border-left: 1px solid gray;box-sizing: border-box;top: 0;bottom: 0;left: 50%;z-index: 0;}#sk-container-id-1 div.sk-serial {display: flex;flex-direction: column;align-items: center;background-color: white;padding-right: 0.2em;padding-left: 0.2em;position: relative;}#sk-container-id-1 div.sk-item {position: relative;z-index: 1;}#sk-container-id-1 div.sk-parallel {display: flex;align-items: stretch;justify-content: center;background-color: white;position: relative;}#sk-container-id-1 div.sk-item::before, #sk-container-id-1 div.sk-parallel-item::before {content: \"\";position: absolute;border-left: 1px solid gray;box-sizing: border-box;top: 0;bottom: 0;left: 50%;z-index: -1;}#sk-container-id-1 div.sk-parallel-item {display: flex;flex-direction: column;z-index: 1;position: relative;background-color: white;}#sk-container-id-1 div.sk-parallel-item:first-child::after {align-self: flex-end;width: 50%;}#sk-container-id-1 div.sk-parallel-item:last-child::after {align-self: flex-start;width: 50%;}#sk-container-id-1 div.sk-parallel-item:only-child::after {width: 0;}#sk-container-id-1 div.sk-dashed-wrapped {border: 1px dashed gray;margin: 0 0.4em 0.5em 0.4em;box-sizing: border-box;padding-bottom: 0.4em;background-color: white;}#sk-container-id-1 div.sk-label label {font-family: monospace;font-weight: bold;display: inline-block;line-height: 1.2em;}#sk-container-id-1 div.sk-label-container {text-align: center;}#sk-container-id-1 div.sk-container {/* jupyter's `normalize.less` sets `[hidden] { display: none; }` but bootstrap.min.css set `[hidden] { display: none !important; }` so we also need the `!important` here to be able to override the default hidden behavior on the sphinx rendered scikit-learn.org. See: https://github.com/scikit-learn/scikit-learn/issues/21755 */display: inline-block !important;position: relative;}#sk-container-id-1 div.sk-text-repr-fallback {display: none;}</style><div id=\"sk-container-id-1\" class=\"sk-top-container\"><div class=\"sk-text-repr-fallback\"><pre>RandomForestRegressor(random_state=42)</pre><b>In a Jupyter environment, please rerun this cell to show the HTML representation or trust the notebook. <br />On GitHub, the HTML representation is unable to render, please try loading this page with nbviewer.org.</b></div><div class=\"sk-container\" hidden><div class=\"sk-item\"><div class=\"sk-estimator sk-toggleable\"><input class=\"sk-toggleable__control sk-hidden--visually\" id=\"sk-estimator-id-1\" type=\"checkbox\" checked><label for=\"sk-estimator-id-1\" class=\"sk-toggleable__label sk-toggleable__label-arrow\">RandomForestRegressor</label><div class=\"sk-toggleable__content\"><pre>RandomForestRegressor(random_state=42)</pre></div></div></div></div></div>"
      ],
      "text/plain": [
       "RandomForestRegressor(random_state=42)"
      ]
     },
     "execution_count": 28,
     "metadata": {},
     "output_type": "execute_result"
    }
   ],
   "source": [
    "rf = RandomForestRegressor(n_estimators = 100, random_state = 42)# Train the model on training data\n",
    "rf.fit(x_train, y_train)"
   ]
  },
  {
   "cell_type": "code",
   "execution_count": 29,
   "id": "115a74dd",
   "metadata": {},
   "outputs": [
    {
     "data": {
      "text/plain": [
       "0.44344811770159537"
      ]
     },
     "execution_count": 29,
     "metadata": {},
     "output_type": "execute_result"
    }
   ],
   "source": [
    "y_pred_train_rf = rf.predict(x_train)\n",
    "train_rmse_rf = rmse(y_pred_train_rf, y_train)\n",
    "train_rmse_rf"
   ]
  },
  {
   "cell_type": "code",
   "execution_count": 30,
   "id": "f76ec1ad",
   "metadata": {},
   "outputs": [
    {
     "data": {
      "text/plain": [
       "1.0307471480222177"
      ]
     },
     "execution_count": 30,
     "metadata": {},
     "output_type": "execute_result"
    }
   ],
   "source": [
    "y_pred_test_rf = rf.predict(x_test)\n",
    "test_rmse_rf = rmse(y_pred_test_rf, y_test)\n",
    "test_rmse_rf"
   ]
  },
  {
   "cell_type": "code",
   "execution_count": 31,
   "id": "e45f9785",
   "metadata": {},
   "outputs": [
    {
     "data": {
      "text/plain": [
       "['Variable: Age                  Importance: 0.33',\n",
       " 'Variable: Income               Importance: 0.28',\n",
       " 'Variable: Gender_Male          Importance: 0.06',\n",
       " 'Variable: content_lengths      Importance: 0.04',\n",
       " 'Variable: Advertisement        Importance: 0.02',\n",
       " 'Variable: Poster               Importance: 0.02',\n",
       " 'Variable: Adult                Importance: 0.01',\n",
       " 'Variable: Body Part            Importance: 0.01',\n",
       " 'Variable: Cleaning             Importance: 0.01',\n",
       " 'Variable: Page                 Importance: 0.01',\n",
       " 'Variable: Person               Importance: 0.01',\n",
       " 'Variable: Plant                Importance: 0.01',\n",
       " 'Variable: Text                 Importance: 0.01',\n",
       " 'Variable: Children at Home     Importance: 0.0',\n",
       " 'Variable: Accessories          Importance: 0.0',\n",
       " 'Variable: Airport              Importance: 0.0',\n",
       " 'Variable: Alcohol              Importance: 0.0',\n",
       " 'Variable: Alien                Importance: 0.0',\n",
       " 'Variable: Aluminium            Importance: 0.0',\n",
       " 'Variable: Animal               Importance: 0.0']"
      ]
     },
     "execution_count": 31,
     "metadata": {},
     "output_type": "execute_result"
    }
   ],
   "source": [
    "# Get numerical feature importances\n",
    "importances = list(rf.feature_importances_)# List of tuples with variable and importance\n",
    "feature_importances = [(feature, round(importance, 2)) for feature, importance in zip(x_train, importances)]# Sort the feature importances by most important first\n",
    "feature_importances = sorted(feature_importances, key = lambda x: x[1], reverse = True)# Print out the feature and importances \n",
    "['Variable: {:20} Importance: {}'.format(*pair) for pair in feature_importances][0:20]"
   ]
  },
  {
   "cell_type": "code",
   "execution_count": 32,
   "id": "159352ca",
   "metadata": {},
   "outputs": [],
   "source": [
    "scores = cross_val_score(rf, x_train, y_train,\n",
    "                         scoring=\"neg_mean_squared_error\", cv=10)\n",
    "rmse_scores = np.sqrt(-scores)"
   ]
  },
  {
   "cell_type": "code",
   "execution_count": 33,
   "id": "bd25aa1b",
   "metadata": {},
   "outputs": [
    {
     "name": "stdout",
     "output_type": "stream",
     "text": [
      "Scores: [0.99033473 1.00822362 1.0298299  1.01415719 1.03429761 1.07067924\n",
      " 1.06672592 1.06581286 1.02911363 1.01819035]\n",
      "Mean: 1.0327365057208433\n",
      "Standard deviation: 0.02582355788589316\n"
     ]
    }
   ],
   "source": [
    "display_scores(rmse_scores)"
   ]
  },
  {
   "cell_type": "markdown",
   "id": "2e11c282",
   "metadata": {},
   "source": [
    "## Artificial Neural Networks"
   ]
  },
  {
   "cell_type": "code",
   "execution_count": 34,
   "id": "c42ca929",
   "metadata": {},
   "outputs": [
    {
     "name": "stdout",
     "output_type": "stream",
     "text": [
      "Epoch 1/10\n",
      "92/92 [==============================] - 1s 2ms/step - loss: 0.9369\n",
      "Epoch 2/10\n",
      "92/92 [==============================] - 0s 2ms/step - loss: 0.8918\n",
      "Epoch 3/10\n",
      "92/92 [==============================] - 0s 2ms/step - loss: 0.8883\n",
      "Epoch 4/10\n",
      "92/92 [==============================] - 0s 2ms/step - loss: 0.8818\n",
      "Epoch 5/10\n",
      "92/92 [==============================] - 0s 2ms/step - loss: 0.8774\n",
      "Epoch 6/10\n",
      "92/92 [==============================] - 0s 2ms/step - loss: 0.8768\n",
      "Epoch 7/10\n",
      "92/92 [==============================] - 0s 2ms/step - loss: 0.8748\n",
      "Epoch 8/10\n",
      "92/92 [==============================] - 0s 2ms/step - loss: 0.8749\n",
      "Epoch 9/10\n",
      "92/92 [==============================] - 0s 2ms/step - loss: 0.8769\n",
      "Epoch 10/10\n",
      "92/92 [==============================] - 0s 2ms/step - loss: 0.8720\n"
     ]
    },
    {
     "data": {
      "text/plain": [
       "<keras.callbacks.History at 0x26841e8bdc0>"
      ]
     },
     "execution_count": 34,
     "metadata": {},
     "output_type": "execute_result"
    }
   ],
   "source": [
    "# create ANN model\n",
    "model = Sequential()\n",
    " \n",
    "# Defining the Input layer and FIRST hidden layer, both are same!\n",
    "model.add(Dense(units=60, input_dim=240, kernel_initializer='normal', activation='relu'))\n",
    " \n",
    "# after the first layer we don't have to specify input_dim as keras configure it automatically\n",
    "model.add(Dense(units=50, kernel_initializer='normal', activation='tanh'))\n",
    "model.add(Dense(units=20, kernel_initializer='normal', activation='tanh'))\n",
    "model.add(Dense(units=10, kernel_initializer='normal', activation='tanh'))\n",
    "# The output neuron is a single fully connected node \n",
    "# Since we will be predicting a single number\n",
    "model.add(Dense(1, kernel_initializer='normal'))\n",
    " \n",
    "# Compiling the model\n",
    "model.compile(loss='mean_squared_error', optimizer='adam')\n",
    " \n",
    "# Fitting the ANN to the Training set\n",
    "model.fit(x_train, y_train ,batch_size = 50, epochs = 10, verbose=1)"
   ]
  },
  {
   "cell_type": "code",
   "execution_count": 35,
   "id": "24a2737b",
   "metadata": {},
   "outputs": [
    {
     "name": "stdout",
     "output_type": "stream",
     "text": [
      "144/144 [==============================] - 0s 1ms/step\n"
     ]
    },
    {
     "data": {
      "text/plain": [
       "0.9306275655100446"
      ]
     },
     "execution_count": 35,
     "metadata": {},
     "output_type": "execute_result"
    }
   ],
   "source": [
    "y_pred_train_ann = model.predict(x_train).flatten()\n",
    "train_rmse_ann = rmse(y_train, y_pred_train_ann)\n",
    "train_rmse_ann"
   ]
  },
  {
   "cell_type": "code",
   "execution_count": 36,
   "id": "f93c3b2a",
   "metadata": {},
   "outputs": [
    {
     "name": "stdout",
     "output_type": "stream",
     "text": [
      "48/48 [==============================] - 0s 1ms/step\n"
     ]
    },
    {
     "data": {
      "text/plain": [
       "0.9343078376488643"
      ]
     },
     "execution_count": 36,
     "metadata": {},
     "output_type": "execute_result"
    }
   ],
   "source": [
    "y_pred_test_ann = model.predict(x_test).flatten()\n",
    "test_rmse_ann = rmse(y_test, y_pred_test_ann)\n",
    "test_rmse_ann"
   ]
  },
  {
   "cell_type": "code",
   "execution_count": 37,
   "id": "db43e3f0",
   "metadata": {},
   "outputs": [],
   "source": [
    "## Deep Neural Network"
   ]
  },
  {
   "cell_type": "code",
   "execution_count": 38,
   "id": "e35faba7",
   "metadata": {},
   "outputs": [],
   "source": [
    "normalizer = tf.keras.layers.Normalization(axis=-1)"
   ]
  },
  {
   "cell_type": "code",
   "execution_count": 39,
   "id": "225a23d4",
   "metadata": {},
   "outputs": [],
   "source": [
    "normalizer.adapt(np.array(x_train))"
   ]
  },
  {
   "cell_type": "code",
   "execution_count": 40,
   "id": "e93600bf",
   "metadata": {},
   "outputs": [],
   "source": [
    "def build_and_compile_model(norm):\n",
    "    model = keras.Sequential([\n",
    "        norm,\n",
    "        layers.Dense(64, activation='relu'),\n",
    "        layers.Dense(64, activation='relu'),\n",
    "        layers.Dense(1)\n",
    "    ])\n",
    "    \n",
    "    model.compile(loss='mean_absolute_error',\n",
    "                  optimizer=tf.keras.optimizers.Adam(0.001))\n",
    "    return model"
   ]
  },
  {
   "cell_type": "code",
   "execution_count": 41,
   "id": "50e17634",
   "metadata": {},
   "outputs": [
    {
     "name": "stdout",
     "output_type": "stream",
     "text": [
      "Model: \"sequential_1\"\n",
      "_________________________________________________________________\n",
      " Layer (type)                Output Shape              Param #   \n",
      "=================================================================\n",
      " normalization (Normalizatio  (None, 240)              481       \n",
      " n)                                                              \n",
      "                                                                 \n",
      " dense_5 (Dense)             (None, 64)                15424     \n",
      "                                                                 \n",
      " dense_6 (Dense)             (None, 64)                4160      \n",
      "                                                                 \n",
      " dense_7 (Dense)             (None, 1)                 65        \n",
      "                                                                 \n",
      "=================================================================\n",
      "Total params: 20,130\n",
      "Trainable params: 19,649\n",
      "Non-trainable params: 481\n",
      "_________________________________________________________________\n"
     ]
    }
   ],
   "source": [
    "dnn_model = build_and_compile_model(normalizer)\n",
    "dnn_model.summary()"
   ]
  },
  {
   "cell_type": "code",
   "execution_count": 42,
   "id": "3052f4f5",
   "metadata": {},
   "outputs": [
    {
     "name": "stdout",
     "output_type": "stream",
     "text": [
      "CPU times: total: 33.7 s\n",
      "Wall time: 22.1 s\n"
     ]
    }
   ],
   "source": [
    "%%time\n",
    "history = dnn_model.fit(\n",
    "    x_train,\n",
    "    y_train,\n",
    "    validation_split=0.2,\n",
    "    verbose=0, epochs=100)"
   ]
  },
  {
   "cell_type": "code",
   "execution_count": 43,
   "id": "4b51041d",
   "metadata": {},
   "outputs": [
    {
     "data": {
      "text/plain": [
       "0.7398906350135803"
      ]
     },
     "execution_count": 43,
     "metadata": {},
     "output_type": "execute_result"
    }
   ],
   "source": [
    "dnn_model.evaluate(x_test, y_test, verbose=0)"
   ]
  },
  {
   "cell_type": "code",
   "execution_count": 44,
   "id": "d30756a1",
   "metadata": {},
   "outputs": [
    {
     "name": "stdout",
     "output_type": "stream",
     "text": [
      "144/144 [==============================] - 0s 1ms/step\n"
     ]
    }
   ],
   "source": [
    "y_pred_train_dnn = dnn_model.predict(x_train).flatten()"
   ]
  },
  {
   "cell_type": "code",
   "execution_count": 45,
   "id": "98d899a3",
   "metadata": {},
   "outputs": [
    {
     "data": {
      "text/plain": [
       "0.9148778024830827"
      ]
     },
     "execution_count": 45,
     "metadata": {},
     "output_type": "execute_result"
    }
   ],
   "source": [
    "train_rmse_dnn = rmse(y_train, y_pred_train_dnn)\n",
    "train_rmse_dnn"
   ]
  },
  {
   "cell_type": "code",
   "execution_count": 46,
   "id": "f78c435a",
   "metadata": {},
   "outputs": [
    {
     "name": "stdout",
     "output_type": "stream",
     "text": [
      "48/48 [==============================] - 0s 1ms/step\n"
     ]
    }
   ],
   "source": [
    "y_pred_test_dnn = dnn_model.predict(x_test).flatten()"
   ]
  },
  {
   "cell_type": "code",
   "execution_count": 47,
   "id": "6aeb0420",
   "metadata": {},
   "outputs": [
    {
     "data": {
      "text/plain": [
       "0.970256043620877"
      ]
     },
     "execution_count": 47,
     "metadata": {},
     "output_type": "execute_result"
    }
   ],
   "source": [
    "test_rmse_dnn = rmse(y_pred_test_dnn, y_test)\n",
    "test_rmse_dnn"
   ]
  },
  {
   "cell_type": "markdown",
   "id": "21aa0edd",
   "metadata": {},
   "source": [
    "## Simple Recurrent Neuron Networks"
   ]
  },
  {
   "cell_type": "code",
   "execution_count": 48,
   "id": "fe2e456b",
   "metadata": {},
   "outputs": [
    {
     "name": "stdout",
     "output_type": "stream",
     "text": [
      "Epoch 1/5\n",
      "230/230 [==============================] - 7s 27ms/step - loss: 0.9916 - mean_squared_error: 0.9916\n",
      "Epoch 2/5\n",
      "230/230 [==============================] - 6s 27ms/step - loss: 0.9495 - mean_squared_error: 0.9495\n",
      "Epoch 3/5\n",
      "230/230 [==============================] - 6s 27ms/step - loss: 0.9360 - mean_squared_error: 0.9360\n",
      "Epoch 4/5\n",
      "230/230 [==============================] - 6s 27ms/step - loss: 0.9429 - mean_squared_error: 0.9429\n",
      "Epoch 5/5\n",
      "230/230 [==============================] - 6s 27ms/step - loss: 0.9383 - mean_squared_error: 0.9383\n"
     ]
    },
    {
     "data": {
      "text/plain": [
       "<keras.callbacks.History at 0x268425592e0>"
      ]
     },
     "execution_count": 48,
     "metadata": {},
     "output_type": "execute_result"
    }
   ],
   "source": [
    "model_rnn = Sequential()\n",
    "model_rnn.add(Input(shape=(240,1), name='Input-Layer'))\n",
    "model_rnn.add(SimpleRNN(units=50, activation='tanh', name='Hidden-Recurrent-Layer')) # Hidden Recurrent Layer\n",
    "model_rnn.add(Dense(units=50, activation='tanh'))\n",
    "model_rnn.add(Dense(units=25, activation='tanh'))\n",
    "model_rnn.add(Dense(units=10, activation='tanh'))\n",
    "model_rnn.add(Dense(units=1, activation='linear', name='Output-Layer'))\n",
    "\n",
    "\n",
    "##### Step 5 - Compile keras model\n",
    "model_rnn.compile(optimizer='adam', # default='rmsprop', an algorithm to be used in backpropagation\n",
    "              loss='mean_squared_error', # Loss function to be optimized. A string (name of loss function), or a tf.keras.losses.Loss instance.\n",
    "              metrics='MeanSquaredError', # List of metrics to be evaluated by the model during training and testing. Each of this can be a string (name of a built-in function), function or a tf.keras.metrics.Metric instance. \n",
    "              loss_weights=None, # default=None, Optional list or dictionary specifying scalar coefficients (Python floats) to weight the loss contributions of different model outputs.\n",
    "              weighted_metrics=None, # default=None, List of metrics to be evaluated and weighted by sample_weight or class_weight during training and testing.\n",
    "              run_eagerly=None, # Defaults to False. If True, this Model's logic will not be wrapped in a tf.function. Recommended to leave this as None unless your Model cannot be run inside a tf.function.\n",
    "              steps_per_execution=None # Defaults to 1. The number of batches to run during each tf.function call. Running multiple batches inside a single tf.function call can greatly improve performance on TPUs or small models with a large Python overhead.\n",
    "             )\n",
    "\n",
    "\n",
    "# Fit keras model on the dataset\n",
    "model_rnn.fit(x_train, y_train,\n",
    "          batch_size=20, \n",
    "          epochs=5,\n",
    "          verbose='auto')\n"
   ]
  },
  {
   "cell_type": "code",
   "execution_count": 49,
   "id": "bf76e4be",
   "metadata": {},
   "outputs": [
    {
     "name": "stdout",
     "output_type": "stream",
     "text": [
      "144/144 [==============================] - 0s 1ms/step\n"
     ]
    },
    {
     "data": {
      "text/plain": [
       "0.9306275655100446"
      ]
     },
     "execution_count": 49,
     "metadata": {},
     "output_type": "execute_result"
    }
   ],
   "source": [
    "y_pred_train_rnn = model.predict(x_train).flatten()\n",
    "train_rmse_rnn = rmse(y_pred_train_rnn, y_train)\n",
    "train_rmse_rnn"
   ]
  },
  {
   "cell_type": "code",
   "execution_count": 50,
   "id": "af3f7a1d",
   "metadata": {},
   "outputs": [
    {
     "name": "stdout",
     "output_type": "stream",
     "text": [
      "48/48 [==============================] - 0s 1ms/step\n"
     ]
    },
    {
     "data": {
      "text/plain": [
       "0.9343078376488643"
      ]
     },
     "execution_count": 50,
     "metadata": {},
     "output_type": "execute_result"
    }
   ],
   "source": [
    "y_pred_test_rnn = model.predict(x_test).flatten()\n",
    "test_rmse_rnn = rmse(y_pred_test_rnn, y_test)\n",
    "test_rmse_rnn\n"
   ]
  },
  {
   "cell_type": "markdown",
   "id": "3cc3e578",
   "metadata": {},
   "source": [
    "## Comparison and Model Selection"
   ]
  },
  {
   "cell_type": "code",
   "execution_count": 51,
   "id": "1d111f1b",
   "metadata": {},
   "outputs": [
    {
     "data": {
      "text/html": [
       "<div>\n",
       "<style scoped>\n",
       "    .dataframe tbody tr th:only-of-type {\n",
       "        vertical-align: middle;\n",
       "    }\n",
       "\n",
       "    .dataframe tbody tr th {\n",
       "        vertical-align: top;\n",
       "    }\n",
       "\n",
       "    .dataframe thead th {\n",
       "        text-align: right;\n",
       "    }\n",
       "</style>\n",
       "<table border=\"1\" class=\"dataframe\">\n",
       "  <thead>\n",
       "    <tr style=\"text-align: right;\">\n",
       "      <th></th>\n",
       "      <th>model_name</th>\n",
       "      <th>train_rmse</th>\n",
       "      <th>test_rmse</th>\n",
       "    </tr>\n",
       "  </thead>\n",
       "  <tbody>\n",
       "    <tr>\n",
       "      <th>1</th>\n",
       "      <td>linear regression</td>\n",
       "      <td>0.928215</td>\n",
       "      <td>0.930762</td>\n",
       "    </tr>\n",
       "    <tr>\n",
       "      <th>4</th>\n",
       "      <td>ANN</td>\n",
       "      <td>0.930628</td>\n",
       "      <td>0.934308</td>\n",
       "    </tr>\n",
       "    <tr>\n",
       "      <th>6</th>\n",
       "      <td>RNN</td>\n",
       "      <td>0.930628</td>\n",
       "      <td>0.934308</td>\n",
       "    </tr>\n",
       "    <tr>\n",
       "      <th>2</th>\n",
       "      <td>super vector</td>\n",
       "      <td>0.929169</td>\n",
       "      <td>0.936180</td>\n",
       "    </tr>\n",
       "    <tr>\n",
       "      <th>5</th>\n",
       "      <td>DNN</td>\n",
       "      <td>0.914878</td>\n",
       "      <td>0.970256</td>\n",
       "    </tr>\n",
       "    <tr>\n",
       "      <th>0</th>\n",
       "      <td>naive</td>\n",
       "      <td>1.000735</td>\n",
       "      <td>0.997854</td>\n",
       "    </tr>\n",
       "    <tr>\n",
       "      <th>3</th>\n",
       "      <td>random forest</td>\n",
       "      <td>0.443448</td>\n",
       "      <td>1.030747</td>\n",
       "    </tr>\n",
       "  </tbody>\n",
       "</table>\n",
       "</div>"
      ],
      "text/plain": [
       "          model_name  train_rmse  test_rmse\n",
       "1  linear regression    0.928215   0.930762\n",
       "4                ANN    0.930628   0.934308\n",
       "6                RNN    0.930628   0.934308\n",
       "2       super vector    0.929169   0.936180\n",
       "5                DNN    0.914878   0.970256\n",
       "0              naive    1.000735   0.997854\n",
       "3      random forest    0.443448   1.030747"
      ]
     },
     "execution_count": 51,
     "metadata": {},
     "output_type": "execute_result"
    }
   ],
   "source": [
    "model_name = pd.Series(['naive', 'linear regression', 'super vector', 'random forest', 'ANN', 'DNN', 'RNN'])\n",
    "train_rmse = pd.Series([train_rmse_naive, train_rmse_lm, train_rmse_svm, train_rmse_rf,\n",
    "                        train_rmse_ann, train_rmse_dnn, train_rmse_rnn])\n",
    "test_rmse = pd.Series([test_rmse_naive, test_rmse_lm, test_rmse_svm, test_rmse_rf, \n",
    "                       test_rmse_ann, test_rmse_dnn, test_rmse_rnn])\n",
    "\n",
    "model_comparison = pd.DataFrame({'model_name':model_name,\n",
    "                                 'train_rmse':train_rmse,\n",
    "                                 \n",
    "                                 'test_rmse':test_rmse})\n",
    "\n",
    "model_comparison.sort_values(by='test_rmse')"
   ]
  },
  {
   "cell_type": "markdown",
   "id": "ff08e213",
   "metadata": {},
   "source": [
    "## Intepretation"
   ]
  },
  {
   "cell_type": "markdown",
   "id": "a49af1a6",
   "metadata": {},
   "source": [
    "The best model is multiple linear model"
   ]
  },
  {
   "cell_type": "code",
   "execution_count": 52,
   "id": "d2423668",
   "metadata": {},
   "outputs": [
    {
     "data": {
      "text/plain": [
       "content_lengths    2863.982033\n",
       "City                 71.492822\n",
       "Tile                 48.847375\n",
       "Lotion               36.804364\n",
       "Game                 33.937468\n",
       "Super Mario          33.937468\n",
       "Bottle               32.211304\n",
       "Blackboard           25.365915\n",
       "Snow                 19.591248\n",
       "Snowflake            19.591248\n",
       "Modern Art           13.602379\n",
       "dtype: float64"
      ]
     },
     "execution_count": 52,
     "metadata": {},
     "output_type": "execute_result"
    }
   ],
   "source": [
    "top_labels = fii.params[p_values <= 0.4].sort_values(ascending = False)\n",
    "top_labels[0:11]"
   ]
  },
  {
   "cell_type": "code",
   "execution_count": 53,
   "id": "1bfe946e",
   "metadata": {},
   "outputs": [
    {
     "data": {
      "text/plain": [
       "Monitor             -131.564297\n",
       "Hardware            -131.704574\n",
       "Computer Hardware   -131.704574\n",
       "Head                -133.193263\n",
       "Face                -133.331862\n",
       "Screen              -133.952495\n",
       "Water               -136.362167\n",
       "Sea                 -137.517037\n",
       "Electronics         -145.208603\n",
       "Person              -201.619434\n",
       "dtype: float64"
      ]
     },
     "execution_count": 53,
     "metadata": {},
     "output_type": "execute_result"
    }
   ],
   "source": [
    "top_labels[len(top_labels)-10:len(top_labels)]"
   ]
  },
  {
   "cell_type": "code",
   "execution_count": 54,
   "id": "24a7371c",
   "metadata": {},
   "outputs": [
    {
     "data": {
      "text/plain": [
       "Children at Home    0.002235\n",
       "Accessories         0.002233\n",
       "Adult               0.002231\n",
       "Advertisement       0.002217\n",
       "Airport             0.002346\n",
       "                      ...   \n",
       "Wine                0.002332\n",
       "Wine Glass          0.002332\n",
       "Woman               0.002239\n",
       "Wood                0.002475\n",
       "content_lengths     0.002235\n",
       "Name: P>|t|, Length: 237, dtype: float64"
      ]
     },
     "execution_count": 54,
     "metadata": {},
     "output_type": "execute_result"
    }
   ],
   "source": [
    "p_values[[p_value in top_labels.index for p_value in p_values.index]]"
   ]
  },
  {
   "cell_type": "markdown",
   "id": "cf2fb9f7",
   "metadata": {},
   "source": [
    "## For other customer group"
   ]
  },
  {
   "cell_type": "code",
   "execution_count": 55,
   "id": "6deebefb",
   "metadata": {},
   "outputs": [
    {
     "data": {
      "text/plain": [
       "5"
      ]
     },
     "execution_count": 55,
     "metadata": {},
     "output_type": "execute_result"
    }
   ],
   "source": [
    "len(customer_types)"
   ]
  },
  {
   "cell_type": "code",
   "execution_count": 56,
   "id": "3e45d059",
   "metadata": {},
   "outputs": [],
   "source": [
    "def fit_linear_model(n):\n",
    "    # filter out data and prepare\n",
    "    ct2 = df.loc[df['Customer Type'] == customer_types[n],:]\n",
    "    ct2.drop(['Customer Type'], axis=1, inplace=True)\n",
    "    categorical_varaibles = ct2.dtypes[ct2.dtypes == 'object'].index\n",
    "    ct2 = pd.get_dummies(ct2,\n",
    "                        columns = categorical_varaibles,\n",
    "                        drop_first=True)\n",
    "    \n",
    "    # scale and split\n",
    "    scale= StandardScaler()\n",
    "    scaled_ct2 = pd.DataFrame(scale.fit_transform(ct2), index=ct2.index, columns=ct2.columns)\n",
    "    x_train, x_test, y_train, y_test = train_test_split(scaled_ct2.drop(columns=['rating']), scaled_ct2['rating'],\n",
    "                                                       random_state=2222)\n",
    "    \n",
    "    mod = sm.OLS(y_train,x_train)\n",
    "    fii = mod.fit()\n",
    "    p_values = fii.summary2().tables[1]['P>|t|']\n",
    "    \n",
    "    return fii, p_values\n",
    "    \n",
    "    "
   ]
  },
  {
   "cell_type": "code",
   "execution_count": 57,
   "id": "bd13fa8e",
   "metadata": {},
   "outputs": [],
   "source": [
    "from itertools import chain\n",
    "\n",
    "def flatten_chain(matrix):\n",
    "     return list(chain.from_iterable(matrix))"
   ]
  },
  {
   "cell_type": "code",
   "execution_count": 58,
   "id": "244cb925",
   "metadata": {},
   "outputs": [
    {
     "name": "stdout",
     "output_type": "stream",
     "text": [
      "train_rmse_lm 1.0002611355184343\n",
      "test_rmse_lm 1.0167834151281774\n",
      "21\n",
      "train_rmse_lm 0.9772270900184717\n",
      "test_rmse_lm 0.9742656258845254\n",
      "23\n",
      "train_rmse_lm 0.9768973873817824\n",
      "test_rmse_lm 0.9739444130181198\n",
      "44\n",
      "train_rmse_lm 0.9660902751240921\n",
      "test_rmse_lm 0.9625545451439479\n",
      "65\n"
     ]
    }
   ],
   "source": [
    "indexes = []\n",
    "coefficient_values = []\n",
    "coefficient_p_values = []\n",
    "\n",
    "for n in range(1,5):\n",
    "    fii, p_values = fit_linear_model(n)\n",
    "    y_pred_train_lm = fii.predict(x_train)\n",
    "    train_rmse_lm = rmse(y_pred_train_lm, y_train)\n",
    "    print('train_rmse_lm',train_rmse_lm)\n",
    "    y_pred_test_lm = fii.predict(x_test)\n",
    "    test_rmse_lm = rmse(y_pred_test_lm, y_test)\n",
    "    print('test_rmse_lm',test_rmse_lm)\n",
    "    \n",
    "    top_labels = fii.params[p_values <= 0.4].sort_values(ascending = False)\n",
    "    \n",
    "    # top labels\n",
    "    indexes.append(top_labels[0:11].index)\n",
    "    coefficient_values.append(top_labels[0:11].values)\n",
    "    coefficient_p_values.append(p_values[[p_value in top_labels.index for p_value in p_values.index]][0:11].values)\n",
    "    \n",
    "    # bottom labels\n",
    "    indexes.append(top_labels[len(top_labels)-10:len(top_labels)].index)\n",
    "    coefficient_values.append(top_labels[len(top_labels)-10:len(top_labels)].values)\n",
    "    coefficient_p_values.append(p_values[[p_value in top_labels.index for p_value in p_values.index]][len(top_labels)-10:len(top_labels)].values)\n",
    "    print(len(flatten_chain(indexes)))"
   ]
  },
  {
   "cell_type": "code",
   "execution_count": 59,
   "id": "bff43621",
   "metadata": {},
   "outputs": [],
   "source": [
    "# important labels\n",
    "impor_labels = pd.DataFrame({'index' : flatten_chain(indexes),\n",
    "                             'coefficient' : flatten_chain(coefficient_values),\n",
    "                             'p_value' : [round(num,4) for num in flatten_chain(coefficient_p_values)]})"
   ]
  },
  {
   "cell_type": "code",
   "execution_count": 60,
   "id": "7d301f02",
   "metadata": {},
   "outputs": [
    {
     "data": {
      "text/html": [
       "<div>\n",
       "<style scoped>\n",
       "    .dataframe tbody tr th:only-of-type {\n",
       "        vertical-align: middle;\n",
       "    }\n",
       "\n",
       "    .dataframe tbody tr th {\n",
       "        vertical-align: top;\n",
       "    }\n",
       "\n",
       "    .dataframe thead th {\n",
       "        text-align: right;\n",
       "    }\n",
       "</style>\n",
       "<table border=\"1\" class=\"dataframe\">\n",
       "  <thead>\n",
       "    <tr style=\"text-align: right;\">\n",
       "      <th></th>\n",
       "      <th>index</th>\n",
       "      <th>coefficient</th>\n",
       "      <th>p_value</th>\n",
       "    </tr>\n",
       "  </thead>\n",
       "  <tbody>\n",
       "    <tr>\n",
       "      <th>48</th>\n",
       "      <td>Super Mario</td>\n",
       "      <td>107.673116</td>\n",
       "      <td>0.0000</td>\n",
       "    </tr>\n",
       "    <tr>\n",
       "      <th>34</th>\n",
       "      <td>Monitor</td>\n",
       "      <td>-36.974130</td>\n",
       "      <td>0.3929</td>\n",
       "    </tr>\n",
       "    <tr>\n",
       "      <th>20</th>\n",
       "      <td>Person</td>\n",
       "      <td>-639.169013</td>\n",
       "      <td>0.1011</td>\n",
       "    </tr>\n",
       "    <tr>\n",
       "      <th>28</th>\n",
       "      <td>Super Mario</td>\n",
       "      <td>9.559905</td>\n",
       "      <td>0.3929</td>\n",
       "    </tr>\n",
       "    <tr>\n",
       "      <th>54</th>\n",
       "      <td>Painting</td>\n",
       "      <td>43.202116</td>\n",
       "      <td>0.0000</td>\n",
       "    </tr>\n",
       "  </tbody>\n",
       "</table>\n",
       "</div>"
      ],
      "text/plain": [
       "          index  coefficient  p_value\n",
       "48  Super Mario   107.673116   0.0000\n",
       "34      Monitor   -36.974130   0.3929\n",
       "20       Person  -639.169013   0.1011\n",
       "28  Super Mario     9.559905   0.3929\n",
       "54     Painting    43.202116   0.0000"
      ]
     },
     "execution_count": 60,
     "metadata": {},
     "output_type": "execute_result"
    }
   ],
   "source": [
    "impor_labels.sample(5)"
   ]
  },
  {
   "cell_type": "code",
   "execution_count": 61,
   "id": "b31a70e6",
   "metadata": {},
   "outputs": [],
   "source": [
    "# export\n",
    "# impor_labels.to_csv('impor_labels.csv',index=False)"
   ]
  }
 ],
 "metadata": {
  "kernelspec": {
   "display_name": "Python 3 (ipykernel)",
   "language": "python",
   "name": "python3"
  },
  "language_info": {
   "codemirror_mode": {
    "name": "ipython",
    "version": 3
   },
   "file_extension": ".py",
   "mimetype": "text/x-python",
   "name": "python",
   "nbconvert_exporter": "python",
   "pygments_lexer": "ipython3",
   "version": "3.9.12"
  },
  "toc": {
   "base_numbering": 1,
   "nav_menu": {},
   "number_sections": true,
   "sideBar": true,
   "skip_h1_title": false,
   "title_cell": "Table of Contents",
   "title_sidebar": "Contents",
   "toc_cell": true,
   "toc_position": {
    "height": "calc(100% - 180px)",
    "left": "10px",
    "top": "150px",
    "width": "288px"
   },
   "toc_section_display": true,
   "toc_window_display": true
  },
  "varInspector": {
   "cols": {
    "lenName": 16,
    "lenType": 16,
    "lenVar": 40
   },
   "kernels_config": {
    "python": {
     "delete_cmd_postfix": "",
     "delete_cmd_prefix": "del ",
     "library": "var_list.py",
     "varRefreshCmd": "print(var_dic_list())"
    },
    "r": {
     "delete_cmd_postfix": ") ",
     "delete_cmd_prefix": "rm(",
     "library": "var_list.r",
     "varRefreshCmd": "cat(var_dic_list()) "
    }
   },
   "types_to_exclude": [
    "module",
    "function",
    "builtin_function_or_method",
    "instance",
    "_Feature"
   ],
   "window_display": false
  }
 },
 "nbformat": 4,
 "nbformat_minor": 5
}
